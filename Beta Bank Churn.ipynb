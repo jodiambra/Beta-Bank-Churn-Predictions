{
 "cells": [
  {
   "cell_type": "markdown",
   "metadata": {},
   "source": [
    "# Beta Bank Churn Model"
   ]
  },
  {
   "cell_type": "markdown",
   "metadata": {},
   "source": [
    "## Purpose"
   ]
  },
  {
   "attachments": {},
   "cell_type": "markdown",
   "metadata": {},
   "source": [
    "The purpose of this project is to investigate the churn of Beta Bank customers. The bank has noticed customers are slowly leaving, month over month. The most cost effective solution is to retain existing customers, rather than recruit new customers. The bank needs a model that will predict whether a customer will leave the bank soon. The model will be trained on data from clients' past behavior and termination of contracts with the bank. The goal of the project is to build a model with an F1 score of at least 0.59.  "
   ]
  },
  {
   "cell_type": "markdown",
   "metadata": {},
   "source": [
    "## Hypothesis"
   ]
  },
  {
   "cell_type": "markdown",
   "metadata": {},
   "source": [
    "This is a binary classification problem, therefore, we will be focussing on that class of modeling. This is the case because the target is categorical: churn or not. The F1 score is an appropriate indicator of our model, because we care about both precision and recall. We care about precision because we want to capture as many true positive occurrences of churning. Recall is also crucial, as we want to capture as many occurrences of churning as possible. "
   ]
  },
  {
   "cell_type": "markdown",
   "metadata": {},
   "source": [
    "## Read Data"
   ]
  },
  {
   "cell_type": "code",
   "execution_count": 1,
   "metadata": {},
   "outputs": [],
   "source": [
    "# Import necessary libraries\n",
    "import pandas as pd \n",
    "import plotly_express as px\n",
    "from sklearn.ensemble import RandomForestClassifier\n",
    "from sklearn.tree import DecisionTreeClassifier\n",
    "from sklearn.linear_model import LogisticRegression\n",
    "from sklearn.model_selection import train_test_split\n",
    "from sklearn.metrics import accuracy_score, mean_squared_error as mse, f1_score, accuracy_score, recall_score, precision_score, classification_report, confusion_matrix, roc_auc_score, roc_curve\n",
    "from sklearn import metrics\n",
    "from sklearn.preprocessing import StandardScaler \n",
    "from sklearn.utils import shuffle\n",
    "from sklearn.preprocessing import OrdinalEncoder, LabelEncoder"
   ]
  },
  {
   "cell_type": "code",
   "execution_count": 2,
   "metadata": {},
   "outputs": [],
   "source": [
    "# Reading the data\n",
    "df = pd.read_csv('datasets/Churn.csv')"
   ]
  },
  {
   "cell_type": "code",
   "execution_count": 3,
   "metadata": {},
   "outputs": [
    {
     "data": {
      "text/html": [
       "<div>\n",
       "<style scoped>\n",
       "    .dataframe tbody tr th:only-of-type {\n",
       "        vertical-align: middle;\n",
       "    }\n",
       "\n",
       "    .dataframe tbody tr th {\n",
       "        vertical-align: top;\n",
       "    }\n",
       "\n",
       "    .dataframe thead th {\n",
       "        text-align: right;\n",
       "    }\n",
       "</style>\n",
       "<table border=\"1\" class=\"dataframe\">\n",
       "  <thead>\n",
       "    <tr style=\"text-align: right;\">\n",
       "      <th></th>\n",
       "      <th>RowNumber</th>\n",
       "      <th>CustomerId</th>\n",
       "      <th>Surname</th>\n",
       "      <th>CreditScore</th>\n",
       "      <th>Geography</th>\n",
       "      <th>Gender</th>\n",
       "      <th>Age</th>\n",
       "      <th>Tenure</th>\n",
       "      <th>Balance</th>\n",
       "      <th>NumOfProducts</th>\n",
       "      <th>HasCrCard</th>\n",
       "      <th>IsActiveMember</th>\n",
       "      <th>EstimatedSalary</th>\n",
       "      <th>Exited</th>\n",
       "    </tr>\n",
       "  </thead>\n",
       "  <tbody>\n",
       "    <tr>\n",
       "      <th>0</th>\n",
       "      <td>1</td>\n",
       "      <td>15634602</td>\n",
       "      <td>Hargrave</td>\n",
       "      <td>619</td>\n",
       "      <td>France</td>\n",
       "      <td>Female</td>\n",
       "      <td>42</td>\n",
       "      <td>2.0</td>\n",
       "      <td>0.00</td>\n",
       "      <td>1</td>\n",
       "      <td>1</td>\n",
       "      <td>1</td>\n",
       "      <td>101348.88</td>\n",
       "      <td>1</td>\n",
       "    </tr>\n",
       "    <tr>\n",
       "      <th>1</th>\n",
       "      <td>2</td>\n",
       "      <td>15647311</td>\n",
       "      <td>Hill</td>\n",
       "      <td>608</td>\n",
       "      <td>Spain</td>\n",
       "      <td>Female</td>\n",
       "      <td>41</td>\n",
       "      <td>1.0</td>\n",
       "      <td>83807.86</td>\n",
       "      <td>1</td>\n",
       "      <td>0</td>\n",
       "      <td>1</td>\n",
       "      <td>112542.58</td>\n",
       "      <td>0</td>\n",
       "    </tr>\n",
       "    <tr>\n",
       "      <th>2</th>\n",
       "      <td>3</td>\n",
       "      <td>15619304</td>\n",
       "      <td>Onio</td>\n",
       "      <td>502</td>\n",
       "      <td>France</td>\n",
       "      <td>Female</td>\n",
       "      <td>42</td>\n",
       "      <td>8.0</td>\n",
       "      <td>159660.80</td>\n",
       "      <td>3</td>\n",
       "      <td>1</td>\n",
       "      <td>0</td>\n",
       "      <td>113931.57</td>\n",
       "      <td>1</td>\n",
       "    </tr>\n",
       "    <tr>\n",
       "      <th>3</th>\n",
       "      <td>4</td>\n",
       "      <td>15701354</td>\n",
       "      <td>Boni</td>\n",
       "      <td>699</td>\n",
       "      <td>France</td>\n",
       "      <td>Female</td>\n",
       "      <td>39</td>\n",
       "      <td>1.0</td>\n",
       "      <td>0.00</td>\n",
       "      <td>2</td>\n",
       "      <td>0</td>\n",
       "      <td>0</td>\n",
       "      <td>93826.63</td>\n",
       "      <td>0</td>\n",
       "    </tr>\n",
       "    <tr>\n",
       "      <th>4</th>\n",
       "      <td>5</td>\n",
       "      <td>15737888</td>\n",
       "      <td>Mitchell</td>\n",
       "      <td>850</td>\n",
       "      <td>Spain</td>\n",
       "      <td>Female</td>\n",
       "      <td>43</td>\n",
       "      <td>2.0</td>\n",
       "      <td>125510.82</td>\n",
       "      <td>1</td>\n",
       "      <td>1</td>\n",
       "      <td>1</td>\n",
       "      <td>79084.10</td>\n",
       "      <td>0</td>\n",
       "    </tr>\n",
       "  </tbody>\n",
       "</table>\n",
       "</div>"
      ],
      "text/plain": [
       "   RowNumber  CustomerId   Surname  CreditScore Geography  Gender  Age  \\\n",
       "0          1    15634602  Hargrave          619    France  Female   42   \n",
       "1          2    15647311      Hill          608     Spain  Female   41   \n",
       "2          3    15619304      Onio          502    France  Female   42   \n",
       "3          4    15701354      Boni          699    France  Female   39   \n",
       "4          5    15737888  Mitchell          850     Spain  Female   43   \n",
       "\n",
       "   Tenure    Balance  NumOfProducts  HasCrCard  IsActiveMember  \\\n",
       "0     2.0       0.00              1          1               1   \n",
       "1     1.0   83807.86              1          0               1   \n",
       "2     8.0  159660.80              3          1               0   \n",
       "3     1.0       0.00              2          0               0   \n",
       "4     2.0  125510.82              1          1               1   \n",
       "\n",
       "   EstimatedSalary  Exited  \n",
       "0        101348.88       1  \n",
       "1        112542.58       0  \n",
       "2        113931.57       1  \n",
       "3         93826.63       0  \n",
       "4         79084.10       0  "
      ]
     },
     "execution_count": 3,
     "metadata": {},
     "output_type": "execute_result"
    }
   ],
   "source": [
    "# First look at the data\n",
    "df.head()"
   ]
  },
  {
   "cell_type": "code",
   "execution_count": 4,
   "metadata": {},
   "outputs": [
    {
     "data": {
      "text/html": [
       "<div>\n",
       "<style scoped>\n",
       "    .dataframe tbody tr th:only-of-type {\n",
       "        vertical-align: middle;\n",
       "    }\n",
       "\n",
       "    .dataframe tbody tr th {\n",
       "        vertical-align: top;\n",
       "    }\n",
       "\n",
       "    .dataframe thead th {\n",
       "        text-align: right;\n",
       "    }\n",
       "</style>\n",
       "<table border=\"1\" class=\"dataframe\">\n",
       "  <thead>\n",
       "    <tr style=\"text-align: right;\">\n",
       "      <th></th>\n",
       "      <th>RowNumber</th>\n",
       "      <th>CustomerId</th>\n",
       "      <th>CreditScore</th>\n",
       "      <th>Age</th>\n",
       "      <th>Tenure</th>\n",
       "      <th>Balance</th>\n",
       "      <th>NumOfProducts</th>\n",
       "      <th>HasCrCard</th>\n",
       "      <th>IsActiveMember</th>\n",
       "      <th>EstimatedSalary</th>\n",
       "      <th>Exited</th>\n",
       "    </tr>\n",
       "  </thead>\n",
       "  <tbody>\n",
       "    <tr>\n",
       "      <th>count</th>\n",
       "      <td>10000.00000</td>\n",
       "      <td>1.000000e+04</td>\n",
       "      <td>10000.000000</td>\n",
       "      <td>10000.000000</td>\n",
       "      <td>9091.000000</td>\n",
       "      <td>10000.000000</td>\n",
       "      <td>10000.000000</td>\n",
       "      <td>10000.00000</td>\n",
       "      <td>10000.000000</td>\n",
       "      <td>10000.000000</td>\n",
       "      <td>10000.000000</td>\n",
       "    </tr>\n",
       "    <tr>\n",
       "      <th>mean</th>\n",
       "      <td>5000.50000</td>\n",
       "      <td>1.569094e+07</td>\n",
       "      <td>650.528800</td>\n",
       "      <td>38.921800</td>\n",
       "      <td>4.997690</td>\n",
       "      <td>76485.889288</td>\n",
       "      <td>1.530200</td>\n",
       "      <td>0.70550</td>\n",
       "      <td>0.515100</td>\n",
       "      <td>100090.239881</td>\n",
       "      <td>0.203700</td>\n",
       "    </tr>\n",
       "    <tr>\n",
       "      <th>std</th>\n",
       "      <td>2886.89568</td>\n",
       "      <td>7.193619e+04</td>\n",
       "      <td>96.653299</td>\n",
       "      <td>10.487806</td>\n",
       "      <td>2.894723</td>\n",
       "      <td>62397.405202</td>\n",
       "      <td>0.581654</td>\n",
       "      <td>0.45584</td>\n",
       "      <td>0.499797</td>\n",
       "      <td>57510.492818</td>\n",
       "      <td>0.402769</td>\n",
       "    </tr>\n",
       "    <tr>\n",
       "      <th>min</th>\n",
       "      <td>1.00000</td>\n",
       "      <td>1.556570e+07</td>\n",
       "      <td>350.000000</td>\n",
       "      <td>18.000000</td>\n",
       "      <td>0.000000</td>\n",
       "      <td>0.000000</td>\n",
       "      <td>1.000000</td>\n",
       "      <td>0.00000</td>\n",
       "      <td>0.000000</td>\n",
       "      <td>11.580000</td>\n",
       "      <td>0.000000</td>\n",
       "    </tr>\n",
       "    <tr>\n",
       "      <th>25%</th>\n",
       "      <td>2500.75000</td>\n",
       "      <td>1.562853e+07</td>\n",
       "      <td>584.000000</td>\n",
       "      <td>32.000000</td>\n",
       "      <td>2.000000</td>\n",
       "      <td>0.000000</td>\n",
       "      <td>1.000000</td>\n",
       "      <td>0.00000</td>\n",
       "      <td>0.000000</td>\n",
       "      <td>51002.110000</td>\n",
       "      <td>0.000000</td>\n",
       "    </tr>\n",
       "    <tr>\n",
       "      <th>50%</th>\n",
       "      <td>5000.50000</td>\n",
       "      <td>1.569074e+07</td>\n",
       "      <td>652.000000</td>\n",
       "      <td>37.000000</td>\n",
       "      <td>5.000000</td>\n",
       "      <td>97198.540000</td>\n",
       "      <td>1.000000</td>\n",
       "      <td>1.00000</td>\n",
       "      <td>1.000000</td>\n",
       "      <td>100193.915000</td>\n",
       "      <td>0.000000</td>\n",
       "    </tr>\n",
       "    <tr>\n",
       "      <th>75%</th>\n",
       "      <td>7500.25000</td>\n",
       "      <td>1.575323e+07</td>\n",
       "      <td>718.000000</td>\n",
       "      <td>44.000000</td>\n",
       "      <td>7.000000</td>\n",
       "      <td>127644.240000</td>\n",
       "      <td>2.000000</td>\n",
       "      <td>1.00000</td>\n",
       "      <td>1.000000</td>\n",
       "      <td>149388.247500</td>\n",
       "      <td>0.000000</td>\n",
       "    </tr>\n",
       "    <tr>\n",
       "      <th>max</th>\n",
       "      <td>10000.00000</td>\n",
       "      <td>1.581569e+07</td>\n",
       "      <td>850.000000</td>\n",
       "      <td>92.000000</td>\n",
       "      <td>10.000000</td>\n",
       "      <td>250898.090000</td>\n",
       "      <td>4.000000</td>\n",
       "      <td>1.00000</td>\n",
       "      <td>1.000000</td>\n",
       "      <td>199992.480000</td>\n",
       "      <td>1.000000</td>\n",
       "    </tr>\n",
       "  </tbody>\n",
       "</table>\n",
       "</div>"
      ],
      "text/plain": [
       "         RowNumber    CustomerId   CreditScore           Age       Tenure  \\\n",
       "count  10000.00000  1.000000e+04  10000.000000  10000.000000  9091.000000   \n",
       "mean    5000.50000  1.569094e+07    650.528800     38.921800     4.997690   \n",
       "std     2886.89568  7.193619e+04     96.653299     10.487806     2.894723   \n",
       "min        1.00000  1.556570e+07    350.000000     18.000000     0.000000   \n",
       "25%     2500.75000  1.562853e+07    584.000000     32.000000     2.000000   \n",
       "50%     5000.50000  1.569074e+07    652.000000     37.000000     5.000000   \n",
       "75%     7500.25000  1.575323e+07    718.000000     44.000000     7.000000   \n",
       "max    10000.00000  1.581569e+07    850.000000     92.000000    10.000000   \n",
       "\n",
       "             Balance  NumOfProducts    HasCrCard  IsActiveMember  \\\n",
       "count   10000.000000   10000.000000  10000.00000    10000.000000   \n",
       "mean    76485.889288       1.530200      0.70550        0.515100   \n",
       "std     62397.405202       0.581654      0.45584        0.499797   \n",
       "min         0.000000       1.000000      0.00000        0.000000   \n",
       "25%         0.000000       1.000000      0.00000        0.000000   \n",
       "50%     97198.540000       1.000000      1.00000        1.000000   \n",
       "75%    127644.240000       2.000000      1.00000        1.000000   \n",
       "max    250898.090000       4.000000      1.00000        1.000000   \n",
       "\n",
       "       EstimatedSalary        Exited  \n",
       "count     10000.000000  10000.000000  \n",
       "mean     100090.239881      0.203700  \n",
       "std       57510.492818      0.402769  \n",
       "min          11.580000      0.000000  \n",
       "25%       51002.110000      0.000000  \n",
       "50%      100193.915000      0.000000  \n",
       "75%      149388.247500      0.000000  \n",
       "max      199992.480000      1.000000  "
      ]
     },
     "execution_count": 4,
     "metadata": {},
     "output_type": "execute_result"
    }
   ],
   "source": [
    "# overall description of the data\n",
    "df.describe()"
   ]
  },
  {
   "cell_type": "code",
   "execution_count": 5,
   "metadata": {},
   "outputs": [
    {
     "data": {
      "text/html": [
       "<div>\n",
       "<style scoped>\n",
       "    .dataframe tbody tr th:only-of-type {\n",
       "        vertical-align: middle;\n",
       "    }\n",
       "\n",
       "    .dataframe tbody tr th {\n",
       "        vertical-align: top;\n",
       "    }\n",
       "\n",
       "    .dataframe thead th {\n",
       "        text-align: right;\n",
       "    }\n",
       "</style>\n",
       "<table border=\"1\" class=\"dataframe\">\n",
       "  <thead>\n",
       "    <tr style=\"text-align: right;\">\n",
       "      <th></th>\n",
       "      <th>RowNumber</th>\n",
       "      <th>CustomerId</th>\n",
       "      <th>CreditScore</th>\n",
       "      <th>Age</th>\n",
       "      <th>Tenure</th>\n",
       "      <th>Balance</th>\n",
       "      <th>NumOfProducts</th>\n",
       "      <th>HasCrCard</th>\n",
       "      <th>IsActiveMember</th>\n",
       "      <th>EstimatedSalary</th>\n",
       "      <th>Exited</th>\n",
       "    </tr>\n",
       "  </thead>\n",
       "  <tbody>\n",
       "    <tr>\n",
       "      <th>RowNumber</th>\n",
       "      <td>1.000000</td>\n",
       "      <td>0.004202</td>\n",
       "      <td>0.005840</td>\n",
       "      <td>0.000783</td>\n",
       "      <td>-0.007322</td>\n",
       "      <td>-0.009067</td>\n",
       "      <td>0.007246</td>\n",
       "      <td>0.000599</td>\n",
       "      <td>0.012044</td>\n",
       "      <td>-0.005988</td>\n",
       "      <td>-0.016571</td>\n",
       "    </tr>\n",
       "    <tr>\n",
       "      <th>CustomerId</th>\n",
       "      <td>0.004202</td>\n",
       "      <td>1.000000</td>\n",
       "      <td>0.005308</td>\n",
       "      <td>0.009497</td>\n",
       "      <td>-0.021418</td>\n",
       "      <td>-0.012419</td>\n",
       "      <td>0.016972</td>\n",
       "      <td>-0.014025</td>\n",
       "      <td>0.001665</td>\n",
       "      <td>0.015271</td>\n",
       "      <td>-0.006248</td>\n",
       "    </tr>\n",
       "    <tr>\n",
       "      <th>CreditScore</th>\n",
       "      <td>0.005840</td>\n",
       "      <td>0.005308</td>\n",
       "      <td>1.000000</td>\n",
       "      <td>-0.003965</td>\n",
       "      <td>-0.000062</td>\n",
       "      <td>0.006268</td>\n",
       "      <td>0.012238</td>\n",
       "      <td>-0.005458</td>\n",
       "      <td>0.025651</td>\n",
       "      <td>-0.001384</td>\n",
       "      <td>-0.027094</td>\n",
       "    </tr>\n",
       "    <tr>\n",
       "      <th>Age</th>\n",
       "      <td>0.000783</td>\n",
       "      <td>0.009497</td>\n",
       "      <td>-0.003965</td>\n",
       "      <td>1.000000</td>\n",
       "      <td>-0.013134</td>\n",
       "      <td>0.028308</td>\n",
       "      <td>-0.030680</td>\n",
       "      <td>-0.011721</td>\n",
       "      <td>0.085472</td>\n",
       "      <td>-0.007201</td>\n",
       "      <td>0.285323</td>\n",
       "    </tr>\n",
       "    <tr>\n",
       "      <th>Tenure</th>\n",
       "      <td>-0.007322</td>\n",
       "      <td>-0.021418</td>\n",
       "      <td>-0.000062</td>\n",
       "      <td>-0.013134</td>\n",
       "      <td>1.000000</td>\n",
       "      <td>-0.007911</td>\n",
       "      <td>0.011979</td>\n",
       "      <td>0.027232</td>\n",
       "      <td>-0.032178</td>\n",
       "      <td>0.010520</td>\n",
       "      <td>-0.016761</td>\n",
       "    </tr>\n",
       "    <tr>\n",
       "      <th>Balance</th>\n",
       "      <td>-0.009067</td>\n",
       "      <td>-0.012419</td>\n",
       "      <td>0.006268</td>\n",
       "      <td>0.028308</td>\n",
       "      <td>-0.007911</td>\n",
       "      <td>1.000000</td>\n",
       "      <td>-0.304180</td>\n",
       "      <td>-0.014858</td>\n",
       "      <td>-0.010084</td>\n",
       "      <td>0.012797</td>\n",
       "      <td>0.118533</td>\n",
       "    </tr>\n",
       "    <tr>\n",
       "      <th>NumOfProducts</th>\n",
       "      <td>0.007246</td>\n",
       "      <td>0.016972</td>\n",
       "      <td>0.012238</td>\n",
       "      <td>-0.030680</td>\n",
       "      <td>0.011979</td>\n",
       "      <td>-0.304180</td>\n",
       "      <td>1.000000</td>\n",
       "      <td>0.003183</td>\n",
       "      <td>0.009612</td>\n",
       "      <td>0.014204</td>\n",
       "      <td>-0.047820</td>\n",
       "    </tr>\n",
       "    <tr>\n",
       "      <th>HasCrCard</th>\n",
       "      <td>0.000599</td>\n",
       "      <td>-0.014025</td>\n",
       "      <td>-0.005458</td>\n",
       "      <td>-0.011721</td>\n",
       "      <td>0.027232</td>\n",
       "      <td>-0.014858</td>\n",
       "      <td>0.003183</td>\n",
       "      <td>1.000000</td>\n",
       "      <td>-0.011866</td>\n",
       "      <td>-0.009933</td>\n",
       "      <td>-0.007138</td>\n",
       "    </tr>\n",
       "    <tr>\n",
       "      <th>IsActiveMember</th>\n",
       "      <td>0.012044</td>\n",
       "      <td>0.001665</td>\n",
       "      <td>0.025651</td>\n",
       "      <td>0.085472</td>\n",
       "      <td>-0.032178</td>\n",
       "      <td>-0.010084</td>\n",
       "      <td>0.009612</td>\n",
       "      <td>-0.011866</td>\n",
       "      <td>1.000000</td>\n",
       "      <td>-0.011421</td>\n",
       "      <td>-0.156128</td>\n",
       "    </tr>\n",
       "    <tr>\n",
       "      <th>EstimatedSalary</th>\n",
       "      <td>-0.005988</td>\n",
       "      <td>0.015271</td>\n",
       "      <td>-0.001384</td>\n",
       "      <td>-0.007201</td>\n",
       "      <td>0.010520</td>\n",
       "      <td>0.012797</td>\n",
       "      <td>0.014204</td>\n",
       "      <td>-0.009933</td>\n",
       "      <td>-0.011421</td>\n",
       "      <td>1.000000</td>\n",
       "      <td>0.012097</td>\n",
       "    </tr>\n",
       "    <tr>\n",
       "      <th>Exited</th>\n",
       "      <td>-0.016571</td>\n",
       "      <td>-0.006248</td>\n",
       "      <td>-0.027094</td>\n",
       "      <td>0.285323</td>\n",
       "      <td>-0.016761</td>\n",
       "      <td>0.118533</td>\n",
       "      <td>-0.047820</td>\n",
       "      <td>-0.007138</td>\n",
       "      <td>-0.156128</td>\n",
       "      <td>0.012097</td>\n",
       "      <td>1.000000</td>\n",
       "    </tr>\n",
       "  </tbody>\n",
       "</table>\n",
       "</div>"
      ],
      "text/plain": [
       "                 RowNumber  CustomerId  CreditScore       Age    Tenure  \\\n",
       "RowNumber         1.000000    0.004202     0.005840  0.000783 -0.007322   \n",
       "CustomerId        0.004202    1.000000     0.005308  0.009497 -0.021418   \n",
       "CreditScore       0.005840    0.005308     1.000000 -0.003965 -0.000062   \n",
       "Age               0.000783    0.009497    -0.003965  1.000000 -0.013134   \n",
       "Tenure           -0.007322   -0.021418    -0.000062 -0.013134  1.000000   \n",
       "Balance          -0.009067   -0.012419     0.006268  0.028308 -0.007911   \n",
       "NumOfProducts     0.007246    0.016972     0.012238 -0.030680  0.011979   \n",
       "HasCrCard         0.000599   -0.014025    -0.005458 -0.011721  0.027232   \n",
       "IsActiveMember    0.012044    0.001665     0.025651  0.085472 -0.032178   \n",
       "EstimatedSalary  -0.005988    0.015271    -0.001384 -0.007201  0.010520   \n",
       "Exited           -0.016571   -0.006248    -0.027094  0.285323 -0.016761   \n",
       "\n",
       "                  Balance  NumOfProducts  HasCrCard  IsActiveMember  \\\n",
       "RowNumber       -0.009067       0.007246   0.000599        0.012044   \n",
       "CustomerId      -0.012419       0.016972  -0.014025        0.001665   \n",
       "CreditScore      0.006268       0.012238  -0.005458        0.025651   \n",
       "Age              0.028308      -0.030680  -0.011721        0.085472   \n",
       "Tenure          -0.007911       0.011979   0.027232       -0.032178   \n",
       "Balance          1.000000      -0.304180  -0.014858       -0.010084   \n",
       "NumOfProducts   -0.304180       1.000000   0.003183        0.009612   \n",
       "HasCrCard       -0.014858       0.003183   1.000000       -0.011866   \n",
       "IsActiveMember  -0.010084       0.009612  -0.011866        1.000000   \n",
       "EstimatedSalary  0.012797       0.014204  -0.009933       -0.011421   \n",
       "Exited           0.118533      -0.047820  -0.007138       -0.156128   \n",
       "\n",
       "                 EstimatedSalary    Exited  \n",
       "RowNumber              -0.005988 -0.016571  \n",
       "CustomerId              0.015271 -0.006248  \n",
       "CreditScore            -0.001384 -0.027094  \n",
       "Age                    -0.007201  0.285323  \n",
       "Tenure                  0.010520 -0.016761  \n",
       "Balance                 0.012797  0.118533  \n",
       "NumOfProducts           0.014204 -0.047820  \n",
       "HasCrCard              -0.009933 -0.007138  \n",
       "IsActiveMember         -0.011421 -0.156128  \n",
       "EstimatedSalary         1.000000  0.012097  \n",
       "Exited                  0.012097  1.000000  "
      ]
     },
     "execution_count": 5,
     "metadata": {},
     "output_type": "execute_result"
    }
   ],
   "source": [
    "# looking for correlations \n",
    "df.corr()"
   ]
  },
  {
   "cell_type": "code",
   "execution_count": 6,
   "metadata": {},
   "outputs": [],
   "source": [
    "# Changing column names to lowercase with underscores\n",
    "df.columns = df.columns.str.lower()\n",
    "df.rename(columns={'rownumber': 'row_number', 'customerid': 'customer_id', 'creditscore': 'credit_score','numofproducts': 'num_of_products', 'hascrcard': 'has_cr_card', 'isactivemember': 'is_active_member', 'estimatedsalary': 'estimated_salary' }, inplace=True)\n"
   ]
  },
  {
   "cell_type": "code",
   "execution_count": 7,
   "metadata": {},
   "outputs": [
    {
     "data": {
      "text/plain": [
       "row_number            0\n",
       "customer_id           0\n",
       "surname               0\n",
       "credit_score          0\n",
       "geography             0\n",
       "gender                0\n",
       "age                   0\n",
       "tenure              909\n",
       "balance               0\n",
       "num_of_products       0\n",
       "has_cr_card           0\n",
       "is_active_member      0\n",
       "estimated_salary      0\n",
       "exited                0\n",
       "dtype: int64"
      ]
     },
     "execution_count": 7,
     "metadata": {},
     "output_type": "execute_result"
    }
   ],
   "source": [
    "# looking for missing values\n",
    "df.isna().sum()"
   ]
  },
  {
   "cell_type": "code",
   "execution_count": 8,
   "metadata": {},
   "outputs": [
    {
     "data": {
      "text/plain": [
       "France     5014\n",
       "Germany    2509\n",
       "Spain      2477\n",
       "Name: geography, dtype: int64"
      ]
     },
     "execution_count": 8,
     "metadata": {},
     "output_type": "execute_result"
    }
   ],
   "source": [
    "# Counting the different values of geography \n",
    "df.geography.value_counts()"
   ]
  },
  {
   "cell_type": "code",
   "execution_count": 9,
   "metadata": {},
   "outputs": [
    {
     "data": {
      "text/plain": [
       "1.0     952\n",
       "2.0     950\n",
       "8.0     933\n",
       "3.0     928\n",
       "5.0     927\n",
       "7.0     925\n",
       "4.0     885\n",
       "9.0     882\n",
       "6.0     881\n",
       "10.0    446\n",
       "0.0     382\n",
       "Name: tenure, dtype: int64"
      ]
     },
     "execution_count": 9,
     "metadata": {},
     "output_type": "execute_result"
    }
   ],
   "source": [
    "# Counting the different vales of tenure\n",
    "df.tenure.value_counts()"
   ]
  },
  {
   "cell_type": "code",
   "execution_count": 10,
   "metadata": {},
   "outputs": [
    {
     "name": "stdout",
     "output_type": "stream",
     "text": [
      "4.997690023099769\n",
      "5.0\n"
     ]
    }
   ],
   "source": [
    "# mean and median tenure\n",
    "print(df.tenure.mean())\n",
    "print(df.tenure.median())"
   ]
  },
  {
   "cell_type": "code",
   "execution_count": 11,
   "metadata": {},
   "outputs": [],
   "source": [
    "# filling missing tenure values with median\n",
    "df.tenure.fillna(df.tenure.median(), inplace=True)"
   ]
  },
  {
   "cell_type": "code",
   "execution_count": 12,
   "metadata": {},
   "outputs": [
    {
     "name": "stdout",
     "output_type": "stream",
     "text": [
      "0\n",
      "0\n"
     ]
    }
   ],
   "source": [
    "# looking for duplicates, hidden duplicates\n",
    "print(df.duplicated().sum())\n",
    "print(df.customer_id.duplicated().sum())"
   ]
  },
  {
   "cell_type": "code",
   "execution_count": 13,
   "metadata": {},
   "outputs": [
    {
     "data": {
      "text/plain": [
       "10000"
      ]
     },
     "execution_count": 13,
     "metadata": {},
     "output_type": "execute_result"
    }
   ],
   "source": [
    "# Looking for hidden duplicates\n",
    "df.customer_id.nunique()"
   ]
  },
  {
   "cell_type": "code",
   "execution_count": 14,
   "metadata": {},
   "outputs": [
    {
     "data": {
      "text/plain": [
       "2"
      ]
     },
     "execution_count": 14,
     "metadata": {},
     "output_type": "execute_result"
    }
   ],
   "source": [
    "# Ensuring two values for gender\n",
    "df.gender.nunique()"
   ]
  },
  {
   "cell_type": "code",
   "execution_count": 15,
   "metadata": {},
   "outputs": [
    {
     "name": "stdout",
     "output_type": "stream",
     "text": [
      "2\n",
      "2\n",
      "2\n"
     ]
    }
   ],
   "source": [
    "# ensuring these features have two values\n",
    "print(df.has_cr_card.nunique())\n",
    "print(df.is_active_member.nunique())\n",
    "print(df.exited.nunique())"
   ]
  },
  {
   "cell_type": "code",
   "execution_count": 16,
   "metadata": {},
   "outputs": [],
   "source": [
    "# Dropping all missing rows\n",
    "df = df.dropna()"
   ]
  },
  {
   "cell_type": "code",
   "execution_count": 17,
   "metadata": {},
   "outputs": [
    {
     "data": {
      "text/plain": [
       "row_number          0\n",
       "customer_id         0\n",
       "surname             0\n",
       "credit_score        0\n",
       "geography           0\n",
       "gender              0\n",
       "age                 0\n",
       "tenure              0\n",
       "balance             0\n",
       "num_of_products     0\n",
       "has_cr_card         0\n",
       "is_active_member    0\n",
       "estimated_salary    0\n",
       "exited              0\n",
       "dtype: int64"
      ]
     },
     "execution_count": 17,
     "metadata": {},
     "output_type": "execute_result"
    }
   ],
   "source": [
    "# No missing values\n",
    "df.isna().sum()"
   ]
  },
  {
   "attachments": {},
   "cell_type": "markdown",
   "metadata": {},
   "source": [
    "Machine learning models cannot work with missing or duplicate values, therefore we had to clean the data. We filled the missing tenure values, with the median of the column. The mean and median values were the same, so we went with the median, because it is an integer. The number of missing tenure values was roughly 9% of the data, which would have been too much to drop. "
   ]
  },
  {
   "cell_type": "markdown",
   "metadata": {},
   "source": [
    "### One Hot Encoding"
   ]
  },
  {
   "cell_type": "code",
   "execution_count": 18,
   "metadata": {},
   "outputs": [
    {
     "data": {
      "text/plain": [
       "Male      5457\n",
       "Female    4543\n",
       "Name: gender, dtype: int64"
      ]
     },
     "execution_count": 18,
     "metadata": {},
     "output_type": "execute_result"
    }
   ],
   "source": [
    "# Looking at the balance of genders\n",
    "df.gender.value_counts()"
   ]
  },
  {
   "cell_type": "code",
   "execution_count": 19,
   "metadata": {},
   "outputs": [
    {
     "data": {
      "text/plain": [
       "0    7963\n",
       "1    2037\n",
       "Name: exited, dtype: int64"
      ]
     },
     "execution_count": 19,
     "metadata": {},
     "output_type": "execute_result"
    }
   ],
   "source": [
    "# target is unbalanced\n",
    "df.exited.value_counts()"
   ]
  },
  {
   "cell_type": "code",
   "execution_count": 20,
   "metadata": {},
   "outputs": [
    {
     "data": {
      "text/plain": [
       "3"
      ]
     },
     "execution_count": 20,
     "metadata": {},
     "output_type": "execute_result"
    }
   ],
   "source": [
    "# number of geography options\n",
    "df.geography.nunique()"
   ]
  },
  {
   "cell_type": "code",
   "execution_count": 21,
   "metadata": {
    "scrolled": true
   },
   "outputs": [],
   "source": [
    "# Changing categorical columns to labels\n",
    "encoder = OrdinalEncoder()\n",
    "df_ordinal = pd.DataFrame(encoder.fit_transform(df[['surname', 'geography', 'gender']]), columns=['surname', 'geography', 'gender'])\n"
   ]
  },
  {
   "cell_type": "code",
   "execution_count": 22,
   "metadata": {},
   "outputs": [],
   "source": [
    "# merge ordinal columns back into df\n",
    "df = df.merge(df_ordinal, left_index=True, right_index=True)"
   ]
  },
  {
   "cell_type": "code",
   "execution_count": 23,
   "metadata": {},
   "outputs": [],
   "source": [
    "# drop the left duplicate columns and rename the right columns\n",
    "df = df.drop(['surname_x', 'geography_x', 'gender_x'], axis=1)\n",
    "df.rename(columns={'surname_y': 'surname', 'geography_y': 'geography', 'gender_y': 'gender'}, inplace=True)"
   ]
  },
  {
   "cell_type": "code",
   "execution_count": 24,
   "metadata": {},
   "outputs": [
    {
     "data": {
      "text/plain": [
       "0    7963\n",
       "1    2037\n",
       "Name: exited, dtype: int64"
      ]
     },
     "execution_count": 24,
     "metadata": {},
     "output_type": "execute_result"
    }
   ],
   "source": [
    "# counting the target values\n",
    "df.exited.value_counts()"
   ]
  },
  {
   "cell_type": "code",
   "execution_count": 25,
   "metadata": {},
   "outputs": [
    {
     "data": {
      "text/plain": [
       "0.0    5014\n",
       "1.0    2509\n",
       "2.0    2477\n",
       "Name: geography, dtype: int64"
      ]
     },
     "execution_count": 25,
     "metadata": {},
     "output_type": "execute_result"
    }
   ],
   "source": [
    "# Geography: 0 - France, 1 - Germany, 2 - Spain\n",
    "df.geography.value_counts()"
   ]
  },
  {
   "cell_type": "markdown",
   "metadata": {},
   "source": [
    "Machine learning models cannot work with categorical features, therefore we had to label the features with numbers. Gender was converted to labels, with 0 - Female and 1 - Male. Geography was also converted to labels: 0 - France, 1 - Germany, 2 - Spain. "
   ]
  },
  {
   "cell_type": "markdown",
   "metadata": {},
   "source": [
    "### Splitting Data"
   ]
  },
  {
   "cell_type": "code",
   "execution_count": 26,
   "metadata": {},
   "outputs": [],
   "source": [
    "# Target and Features\n",
    "target = df['exited']\n",
    "features = df.drop(['exited', 'row_number', 'customer_id', 'surname'], axis=1)\n"
   ]
  },
  {
   "cell_type": "markdown",
   "metadata": {},
   "source": [
    "Do not believe row number, customer id, and surname are relevant features for the model. "
   ]
  },
  {
   "cell_type": "code",
   "execution_count": 27,
   "metadata": {},
   "outputs": [],
   "source": [
    "# Splitting dataset into 3: train, test, valid\n",
    "\n",
    "features_train, features_test, target_train, target_test = train_test_split( \n",
    "    features, target, test_size=0.2, random_state=19) # split 20% of data to make validation set\n",
    "features_train, features_valid, target_train, target_valid = train_test_split(\n",
    "    features_train, target_train, test_size=0.25, random_state=19) # 0.25 x 0.8 = 0.2"
   ]
  },
  {
   "cell_type": "code",
   "execution_count": 28,
   "metadata": {},
   "outputs": [
    {
     "name": "stdout",
     "output_type": "stream",
     "text": [
      "(6000, 10)\n",
      "(6000,)\n",
      "(2000, 10)\n",
      "(2000,)\n",
      "(2000, 10)\n",
      "(2000,)\n"
     ]
    }
   ],
   "source": [
    "# Visual of the split data\n",
    "print(features_train.shape)\n",
    "print(target_train.shape)\n",
    "print(features_valid.shape)\n",
    "print(target_valid.shape)\n",
    "print(features_test.shape)\n",
    "print(target_test.shape)"
   ]
  },
  {
   "cell_type": "markdown",
   "metadata": {},
   "source": [
    "### Feature Scaling"
   ]
  },
  {
   "cell_type": "code",
   "execution_count": 29,
   "metadata": {},
   "outputs": [
    {
     "data": {
      "text/plain": [
       "Index(['credit_score', 'age', 'tenure', 'balance', 'num_of_products',\n",
       "       'has_cr_card', 'is_active_member', 'estimated_salary', 'geography',\n",
       "       'gender'],\n",
       "      dtype='object')"
      ]
     },
     "execution_count": 29,
     "metadata": {},
     "output_type": "execute_result"
    }
   ],
   "source": [
    "# Identify column names\n",
    "features_train.columns"
   ]
  },
  {
   "cell_type": "code",
   "execution_count": 30,
   "metadata": {},
   "outputs": [
    {
     "data": {
      "text/plain": [
       "StandardScaler()"
      ]
     },
     "execution_count": 30,
     "metadata": {},
     "output_type": "execute_result"
    }
   ],
   "source": [
    "# Using these numeric columns\n",
    "numeric = ['credit_score', 'age', 'tenure', 'balance', 'num_of_products','estimated_salary']\n",
    "\n",
    "scaler = StandardScaler()\n",
    "scaler.fit(features_train[numeric])"
   ]
  },
  {
   "cell_type": "markdown",
   "metadata": {},
   "source": [
    "Do not believe row number, customer id, and surname are relevant features for the model. "
   ]
  },
  {
   "cell_type": "code",
   "execution_count": 31,
   "metadata": {},
   "outputs": [
    {
     "name": "stdout",
     "output_type": "stream",
     "text": [
      "(6000, 10)\n"
     ]
    }
   ],
   "source": [
    "# Scaling the features\n",
    "features_train[numeric] = scaler.transform(features_train[numeric])\n",
    "features_valid[numeric] = scaler.transform(features_valid[numeric])\n",
    "features_test[numeric] = scaler.transform(features_test[numeric])\n",
    "\n",
    "print(features_train.shape)"
   ]
  },
  {
   "cell_type": "code",
   "execution_count": 32,
   "metadata": {},
   "outputs": [
    {
     "data": {
      "text/html": [
       "<div>\n",
       "<style scoped>\n",
       "    .dataframe tbody tr th:only-of-type {\n",
       "        vertical-align: middle;\n",
       "    }\n",
       "\n",
       "    .dataframe tbody tr th {\n",
       "        vertical-align: top;\n",
       "    }\n",
       "\n",
       "    .dataframe thead th {\n",
       "        text-align: right;\n",
       "    }\n",
       "</style>\n",
       "<table border=\"1\" class=\"dataframe\">\n",
       "  <thead>\n",
       "    <tr style=\"text-align: right;\">\n",
       "      <th></th>\n",
       "      <th>credit_score</th>\n",
       "      <th>age</th>\n",
       "      <th>tenure</th>\n",
       "      <th>balance</th>\n",
       "      <th>num_of_products</th>\n",
       "      <th>has_cr_card</th>\n",
       "      <th>is_active_member</th>\n",
       "      <th>estimated_salary</th>\n",
       "      <th>geography</th>\n",
       "      <th>gender</th>\n",
       "    </tr>\n",
       "  </thead>\n",
       "  <tbody>\n",
       "    <tr>\n",
       "      <th>7143</th>\n",
       "      <td>0.703732</td>\n",
       "      <td>1.432882</td>\n",
       "      <td>0.713391</td>\n",
       "      <td>-1.217433</td>\n",
       "      <td>0.790787</td>\n",
       "      <td>1</td>\n",
       "      <td>1</td>\n",
       "      <td>0.442364</td>\n",
       "      <td>0.0</td>\n",
       "      <td>0.0</td>\n",
       "    </tr>\n",
       "    <tr>\n",
       "      <th>1730</th>\n",
       "      <td>2.046232</td>\n",
       "      <td>-1.811595</td>\n",
       "      <td>0.713391</td>\n",
       "      <td>-1.217433</td>\n",
       "      <td>0.790787</td>\n",
       "      <td>1</td>\n",
       "      <td>0</td>\n",
       "      <td>-1.183483</td>\n",
       "      <td>0.0</td>\n",
       "      <td>1.0</td>\n",
       "    </tr>\n",
       "    <tr>\n",
       "      <th>5253</th>\n",
       "      <td>0.047853</td>\n",
       "      <td>-1.143614</td>\n",
       "      <td>1.436178</td>\n",
       "      <td>-1.217433</td>\n",
       "      <td>0.790787</td>\n",
       "      <td>0</td>\n",
       "      <td>0</td>\n",
       "      <td>0.146972</td>\n",
       "      <td>2.0</td>\n",
       "      <td>0.0</td>\n",
       "    </tr>\n",
       "    <tr>\n",
       "      <th>1601</th>\n",
       "      <td>1.882263</td>\n",
       "      <td>0.955753</td>\n",
       "      <td>1.074784</td>\n",
       "      <td>1.346823</td>\n",
       "      <td>0.790787</td>\n",
       "      <td>1</td>\n",
       "      <td>0</td>\n",
       "      <td>0.515762</td>\n",
       "      <td>0.0</td>\n",
       "      <td>0.0</td>\n",
       "    </tr>\n",
       "    <tr>\n",
       "      <th>1034</th>\n",
       "      <td>0.129838</td>\n",
       "      <td>0.669475</td>\n",
       "      <td>-0.732183</td>\n",
       "      <td>-1.217433</td>\n",
       "      <td>0.790787</td>\n",
       "      <td>0</td>\n",
       "      <td>1</td>\n",
       "      <td>1.330867</td>\n",
       "      <td>0.0</td>\n",
       "      <td>1.0</td>\n",
       "    </tr>\n",
       "    <tr>\n",
       "      <th>...</th>\n",
       "      <td>...</td>\n",
       "      <td>...</td>\n",
       "      <td>...</td>\n",
       "      <td>...</td>\n",
       "      <td>...</td>\n",
       "      <td>...</td>\n",
       "      <td>...</td>\n",
       "      <td>...</td>\n",
       "      <td>...</td>\n",
       "      <td>...</td>\n",
       "    </tr>\n",
       "    <tr>\n",
       "      <th>1702</th>\n",
       "      <td>0.365544</td>\n",
       "      <td>-1.620743</td>\n",
       "      <td>-0.009396</td>\n",
       "      <td>-1.217433</td>\n",
       "      <td>0.790787</td>\n",
       "      <td>1</td>\n",
       "      <td>0</td>\n",
       "      <td>1.030824</td>\n",
       "      <td>2.0</td>\n",
       "      <td>1.0</td>\n",
       "    </tr>\n",
       "    <tr>\n",
       "      <th>4201</th>\n",
       "      <td>0.181079</td>\n",
       "      <td>0.669475</td>\n",
       "      <td>0.713391</td>\n",
       "      <td>1.366045</td>\n",
       "      <td>-0.920256</td>\n",
       "      <td>1</td>\n",
       "      <td>1</td>\n",
       "      <td>1.274958</td>\n",
       "      <td>1.0</td>\n",
       "      <td>0.0</td>\n",
       "    </tr>\n",
       "    <tr>\n",
       "      <th>4976</th>\n",
       "      <td>1.820774</td>\n",
       "      <td>-1.334466</td>\n",
       "      <td>0.713391</td>\n",
       "      <td>1.087362</td>\n",
       "      <td>-0.920256</td>\n",
       "      <td>1</td>\n",
       "      <td>0</td>\n",
       "      <td>0.296202</td>\n",
       "      <td>1.0</td>\n",
       "      <td>0.0</td>\n",
       "    </tr>\n",
       "    <tr>\n",
       "      <th>9771</th>\n",
       "      <td>-1.745563</td>\n",
       "      <td>0.001495</td>\n",
       "      <td>-0.009396</td>\n",
       "      <td>0.724523</td>\n",
       "      <td>-0.920256</td>\n",
       "      <td>1</td>\n",
       "      <td>1</td>\n",
       "      <td>-0.296458</td>\n",
       "      <td>2.0</td>\n",
       "      <td>1.0</td>\n",
       "    </tr>\n",
       "    <tr>\n",
       "      <th>8307</th>\n",
       "      <td>-0.331326</td>\n",
       "      <td>-0.857337</td>\n",
       "      <td>-0.732183</td>\n",
       "      <td>0.919591</td>\n",
       "      <td>-0.920256</td>\n",
       "      <td>1</td>\n",
       "      <td>1</td>\n",
       "      <td>-1.181434</td>\n",
       "      <td>0.0</td>\n",
       "      <td>1.0</td>\n",
       "    </tr>\n",
       "  </tbody>\n",
       "</table>\n",
       "<p>6000 rows × 10 columns</p>\n",
       "</div>"
      ],
      "text/plain": [
       "      credit_score       age    tenure   balance  num_of_products  \\\n",
       "7143      0.703732  1.432882  0.713391 -1.217433         0.790787   \n",
       "1730      2.046232 -1.811595  0.713391 -1.217433         0.790787   \n",
       "5253      0.047853 -1.143614  1.436178 -1.217433         0.790787   \n",
       "1601      1.882263  0.955753  1.074784  1.346823         0.790787   \n",
       "1034      0.129838  0.669475 -0.732183 -1.217433         0.790787   \n",
       "...            ...       ...       ...       ...              ...   \n",
       "1702      0.365544 -1.620743 -0.009396 -1.217433         0.790787   \n",
       "4201      0.181079  0.669475  0.713391  1.366045        -0.920256   \n",
       "4976      1.820774 -1.334466  0.713391  1.087362        -0.920256   \n",
       "9771     -1.745563  0.001495 -0.009396  0.724523        -0.920256   \n",
       "8307     -0.331326 -0.857337 -0.732183  0.919591        -0.920256   \n",
       "\n",
       "      has_cr_card  is_active_member  estimated_salary  geography  gender  \n",
       "7143            1                 1          0.442364        0.0     0.0  \n",
       "1730            1                 0         -1.183483        0.0     1.0  \n",
       "5253            0                 0          0.146972        2.0     0.0  \n",
       "1601            1                 0          0.515762        0.0     0.0  \n",
       "1034            0                 1          1.330867        0.0     1.0  \n",
       "...           ...               ...               ...        ...     ...  \n",
       "1702            1                 0          1.030824        2.0     1.0  \n",
       "4201            1                 1          1.274958        1.0     0.0  \n",
       "4976            1                 0          0.296202        1.0     0.0  \n",
       "9771            1                 1         -0.296458        2.0     1.0  \n",
       "8307            1                 1         -1.181434        0.0     1.0  \n",
       "\n",
       "[6000 rows x 10 columns]"
      ]
     },
     "execution_count": 32,
     "metadata": {},
     "output_type": "execute_result"
    }
   ],
   "source": [
    "# Visual of the features\n",
    "features_train"
   ]
  },
  {
   "cell_type": "markdown",
   "metadata": {},
   "source": [
    "We scaled the data to account for feature weight imbalance. "
   ]
  },
  {
   "cell_type": "markdown",
   "metadata": {},
   "source": [
    "### Upsampling"
   ]
  },
  {
   "cell_type": "code",
   "execution_count": 33,
   "metadata": {},
   "outputs": [
    {
     "data": {
      "text/plain": [
       "0    7963\n",
       "1    2037\n",
       "Name: exited, dtype: int64"
      ]
     },
     "execution_count": 33,
     "metadata": {},
     "output_type": "execute_result"
    }
   ],
   "source": [
    "# Target values before upsampling\n",
    "target.value_counts()"
   ]
  },
  {
   "cell_type": "code",
   "execution_count": 34,
   "metadata": {},
   "outputs": [],
   "source": [
    "# function to upsample the features and target\n",
    "def upsample(features, target, repeat):\n",
    "    features_zeros = features_train[target_train == 0]\n",
    "    features_ones = features_train[target_train == 1]\n",
    "    target_zeros = target_train[target_train == 0]\n",
    "    target_ones = target_train[target_train == 1]\n",
    "    \n",
    "\n",
    "    features_upsampled = pd.concat([features_zeros] + [features_ones] * repeat)\n",
    "    target_upsampled = pd.concat([target_zeros] + [target_ones] * repeat)\n",
    "\n",
    "    features_upsampled, target_upsampled = shuffle(\n",
    "        features_upsampled, target_upsampled, random_state=19\n",
    "    )\n",
    "\n",
    "    return features_upsampled, target_upsampled\n",
    "\n",
    "\n",
    "features_upsampled, target_upsampled = upsample(\n",
    "    features_train, target_train, 4)\n",
    "\n"
   ]
  },
  {
   "cell_type": "code",
   "execution_count": 35,
   "metadata": {},
   "outputs": [
    {
     "name": "stdout",
     "output_type": "stream",
     "text": [
      "(9666, 10)\n",
      "(9666,)\n"
     ]
    }
   ],
   "source": [
    "# Results of the upsampling, \n",
    "print(features_upsampled.shape)\n",
    "print(target_upsampled.shape)\n"
   ]
  },
  {
   "cell_type": "code",
   "execution_count": 36,
   "metadata": {},
   "outputs": [
    {
     "data": {
      "text/plain": [
       "1    4888\n",
       "0    4778\n",
       "Name: exited, dtype: int64"
      ]
     },
     "execution_count": 36,
     "metadata": {},
     "output_type": "execute_result"
    }
   ],
   "source": [
    "# looking at upsampled target counts\n",
    "target_upsampled.value_counts()"
   ]
  },
  {
   "cell_type": "markdown",
   "metadata": {},
   "source": [
    "We upsampled the data to balance out the churn target in the data. "
   ]
  },
  {
   "cell_type": "markdown",
   "metadata": {},
   "source": [
    "## Modeling"
   ]
  },
  {
   "cell_type": "markdown",
   "metadata": {},
   "source": [
    "### Decision Tree"
   ]
  },
  {
   "cell_type": "code",
   "execution_count": 37,
   "metadata": {},
   "outputs": [
    {
     "name": "stdout",
     "output_type": "stream",
     "text": [
      "Best Depth: 2 ,  F1 of the best model on the validation set: 0.5122302158273381\n",
      "AUC-ROC score: 0.6598716710278545\n"
     ]
    }
   ],
   "source": [
    "# Decision Tree with loop for depth\n",
    "best_model = None\n",
    "best_result = 0\n",
    "best_depth = 0\n",
    "for depth in range(1,20):\n",
    "    model_0 = DecisionTreeClassifier(random_state=19, max_depth=depth)\n",
    "    model_0.fit(features_train, target_train) # using unbalanced data for comparison\n",
    "    predictions_valid0 = model_0.predict(features_valid)\n",
    "    result0 = f1_score(target_valid, predictions_valid0) \n",
    "    if result0 > best_result:\n",
    "        best_model = model_0\n",
    "        best_result = result0\n",
    "        best_depth = depth  \n",
    "\n",
    "        \n",
    "print(\"Best Depth:\", best_depth, \",\"   \"  F1 of the best model on the validation set:\", best_result)\n",
    "\n",
    "# AUC-ROC score \n",
    "probabilities_valid0 = model_0.predict_proba(features_valid)\n",
    "probabilities_one_valid0 = probabilities_valid0[:, 1]\n",
    "\n",
    "auc_roc = roc_auc_score(target_valid, probabilities_one_valid0)\n",
    "\n",
    "print('AUC-ROC score:', auc_roc)"
   ]
  },
  {
   "cell_type": "code",
   "execution_count": 38,
   "metadata": {},
   "outputs": [
    {
     "name": "stdout",
     "output_type": "stream",
     "text": [
      "Best Depth: 6 ,  F1 of the best model on the validation set: 0.5752636625119847\n",
      "AUC-ROC score: 0.6804484788828838\n"
     ]
    }
   ],
   "source": [
    "# Decision Tree with loop for depth\n",
    "best_model = None\n",
    "best_result = 0\n",
    "best_depth = 0\n",
    "for depth in range(1,20):\n",
    "    model = DecisionTreeClassifier(random_state=19, max_depth=depth)\n",
    "    model.fit(features_upsampled, target_upsampled) # using balanced, upsampled data\n",
    "    predictions_valid = model.predict(features_valid)\n",
    "    result = f1_score(target_valid, predictions_valid) \n",
    "    if result > best_result:\n",
    "        best_model = model\n",
    "        best_result = result\n",
    "        best_depth = depth  \n",
    "\n",
    "        \n",
    "print(\"Best Depth:\", best_depth, \",\"   \"  F1 of the best model on the validation set:\", best_result)\n",
    "\n",
    "# AUC-ROC score \n",
    "probabilities_valid = model.predict_proba(features_valid)\n",
    "probabilities_one_valid = probabilities_valid[:, 1]\n",
    "\n",
    "auc_roc = roc_auc_score(target_valid, probabilities_one_valid)\n",
    "\n",
    "print('AUC-ROC score:', auc_roc)"
   ]
  },
  {
   "cell_type": "markdown",
   "metadata": {},
   "source": [
    "Results are different due to the differences in the data used to train the model. The unbalanced data has more target values that are 0, thereby creating bias in the data. "
   ]
  },
  {
   "cell_type": "markdown",
   "metadata": {},
   "source": [
    "### Logistic Regression"
   ]
  },
  {
   "cell_type": "code",
   "execution_count": 39,
   "metadata": {},
   "outputs": [
    {
     "name": "stdout",
     "output_type": "stream",
     "text": [
      "F1 score of the logistic regression model on the validation set: 0.25621414913957935\n",
      "AUC-ROC score: 0.7691851507666725\n"
     ]
    }
   ],
   "source": [
    "# Logistic Regression, no class weights\n",
    "model_002 = LogisticRegression(random_state=19, solver='saga', multi_class='multinomial')  \n",
    "model_002.fit(features_train, target_train)  # using unbalanced data for comparison\n",
    "predictions002_valid = model_002.predict(features_valid)\n",
    "f1_valid_002 = f1_score(target_valid, predictions002_valid)  \n",
    "\n",
    "print(\n",
    "    \"F1 score of the logistic regression model on the validation set:\",\n",
    "    f1_valid_002\n",
    ")\n",
    "\n",
    "# AUC-ROC score \n",
    "probabilities_valid002 = model_002.predict_proba(features_valid)\n",
    "probabilities_one_valid002 = probabilities_valid002[:, 1]\n",
    "\n",
    "auc_roc = roc_auc_score(target_valid, probabilities_one_valid002)\n",
    "\n",
    "print('AUC-ROC score:', auc_roc)"
   ]
  },
  {
   "cell_type": "code",
   "execution_count": 40,
   "metadata": {},
   "outputs": [
    {
     "name": "stdout",
     "output_type": "stream",
     "text": [
      "F1 score of the logistic regression model on the validation set: 0.49613733905579394\n",
      "AUC-ROC score: 0.7746936978797291\n"
     ]
    }
   ],
   "source": [
    "# Logistic Regression, balanced \n",
    "model_02 = LogisticRegression(random_state=19, solver='saga', class_weight='balanced', multi_class='multinomial')  \n",
    "model_02.fit(features_train, target_train)  # using balanced data for comparison\n",
    "predictions02_valid = model_02.predict(features_valid)\n",
    "f1_valid_02 = f1_score(target_valid, predictions02_valid)  \n",
    "\n",
    "print(\n",
    "    \"F1 score of the logistic regression model on the validation set:\",\n",
    "    f1_valid_02\n",
    ")\n",
    "\n",
    "# AUC-ROC score \n",
    "probabilities_valid02 = model_02.predict_proba(features_valid)\n",
    "probabilities_one_valid02 = probabilities_valid02[:, 1]\n",
    "\n",
    "auc_roc = roc_auc_score(target_valid, probabilities_one_valid02)\n",
    "\n",
    "print('AUC-ROC score:', auc_roc)"
   ]
  },
  {
   "cell_type": "code",
   "execution_count": 41,
   "metadata": {},
   "outputs": [
    {
     "name": "stdout",
     "output_type": "stream",
     "text": [
      "F1 score of the logistic regression model on the validation set: 0.4923857868020305\n",
      "AUC-ROC score: 0.7747747059255092\n"
     ]
    }
   ],
   "source": [
    "# Logistic Regression, not balanced, upsampled\n",
    "model20 = LogisticRegression(random_state=19, solver='saga', multi_class='multinomial')  \n",
    "model20.fit(features_upsampled, target_upsampled)  #  upsampled data\n",
    "predictions20_valid = model20.predict(features_valid)\n",
    "f1_valid20 = f1_score(target_valid, predictions20_valid)  \n",
    "\n",
    "print(\n",
    "    \"F1 score of the logistic regression model on the validation set:\",\n",
    "    f1_valid20\n",
    ")\n",
    "\n",
    "# AUC-ROC score \n",
    "probabilities_valid20 = model20.predict_proba(features_valid)\n",
    "probabilities_one_valid20 = probabilities_valid20[:, 1]\n",
    "\n",
    "auc_roc = roc_auc_score(target_valid, probabilities_one_valid20)\n",
    "\n",
    "print('AUC-ROC score:', auc_roc)"
   ]
  },
  {
   "cell_type": "code",
   "execution_count": 42,
   "metadata": {},
   "outputs": [
    {
     "name": "stdout",
     "output_type": "stream",
     "text": [
      "F1 score of the logistic regression model on the validation set: 0.4965635738831615\n",
      "AUC-ROC score: 0.7747074539629748\n"
     ]
    }
   ],
   "source": [
    "# Logistic Regression\n",
    "model2 = LogisticRegression(random_state=19, solver='saga', class_weight='balanced', multi_class='multinomial')  \n",
    "model2.fit(features_upsampled, target_upsampled)  # using balanced, upsampled data\n",
    "predictions2_valid = model2.predict(features_valid)\n",
    "f1_valid2 = f1_score(target_valid, predictions2_valid)  \n",
    "\n",
    "print(\n",
    "    \"F1 score of the logistic regression model on the validation set:\",\n",
    "    f1_valid2\n",
    ")\n",
    "\n",
    "# AUC-ROC score \n",
    "probabilities_valid2 = model2.predict_proba(features_valid)\n",
    "probabilities_one_valid2 = probabilities_valid2[:, 1]\n",
    "\n",
    "auc_roc = roc_auc_score(target_valid, probabilities_one_valid2)\n",
    "\n",
    "print('AUC-ROC score:', auc_roc)"
   ]
  },
  {
   "cell_type": "markdown",
   "metadata": {},
   "source": [
    "Results are improved with balancing and upsampling. The F1 score increases drastically with class weight balancing, and a little more with upsampling. Therefore, balanced weight classes are directly proportional to higher F1 scores in this model. "
   ]
  },
  {
   "cell_type": "markdown",
   "metadata": {},
   "source": [
    "### Random Forest"
   ]
  },
  {
   "cell_type": "code",
   "execution_count": 43,
   "metadata": {},
   "outputs": [
    {
     "name": "stdout",
     "output_type": "stream",
     "text": [
      "F1 of the best model on the validation set: 0.5617283950617283 n_estimators: 500 best_depth: 1000\n",
      "AUC-ROC score: 0.8555978088087843\n"
     ]
    }
   ],
   "source": [
    "# Random Forest, unbalanced, not upsampled (2 min run)\n",
    "best_model = None\n",
    "best_result = 0\n",
    "best_est = 0\n",
    "best_depth = 0\n",
    "for est in range(500, 800, 50):\n",
    "    for depth in range (700, 1001, 100):\n",
    "        model_003 = RandomForestClassifier(random_state=19, n_estimators=est, max_depth=depth)\n",
    "        model_003.fit(features_train, target_train) # using unbalanced data for comparison\n",
    "        predictions_valid_003 = model_003.predict(features_valid) \n",
    "        result_003 = f1_score(target_valid, predictions_valid_003) \n",
    "        if result_003 > best_result:\n",
    "            best_model = model_003\n",
    "            best_result = result_003\n",
    "            best_est = est\n",
    "            best_depth1 = depth\n",
    "\n",
    "print(\"F1 of the best model on the validation set:\", best_result, \"n_estimators:\", best_est, \"best_depth:\", depth)\n",
    "\n",
    "\n",
    "# AUC-ROC score \n",
    "probabilities_valid003 = model_003.predict_proba(features_valid)\n",
    "probabilities_one_valid003 = probabilities_valid003[:, 1]\n",
    "\n",
    "auc_roc = roc_auc_score(target_valid, probabilities_one_valid003)\n",
    "\n",
    "print('AUC-ROC score:', auc_roc)\n"
   ]
  },
  {
   "cell_type": "code",
   "execution_count": 46,
   "metadata": {},
   "outputs": [
    {
     "name": "stdout",
     "output_type": "stream",
     "text": [
      "F1 of the best model on the validation set: 0.5246422893481716 n_estimators: 500 best_depth: 1000\n",
      "AUC-ROC score: 0.8574204898388397\n"
     ]
    }
   ],
   "source": [
    "# Random Forest, balanced, not upsampled (2 min run)\n",
    "best_model = None\n",
    "best_result = 0\n",
    "best_est = 0\n",
    "best_depth = 0\n",
    "for est in range(500, 800, 50):\n",
    "    for depth in range (700, 1001, 100):\n",
    "        model_03 = RandomForestClassifier(random_state=19, class_weight='balanced', n_estimators=est, max_depth=depth)\n",
    "        model_03.fit(features_train, target_train) # using unbalanced data for comparison\n",
    "        predictions_valid_03 = model_03.predict(features_valid) \n",
    "        result_03 = f1_score(target_valid, predictions_valid_03) \n",
    "        if result_03 > best_result:\n",
    "            best_model = model_03\n",
    "            best_result = result_03\n",
    "            best_est = est\n",
    "            best_depth1 = depth\n",
    "\n",
    "print(\"F1 of the best model on the validation set:\", best_result, \"n_estimators:\", best_est, \"best_depth:\", depth)\n",
    "\n",
    "\n",
    "# AUC-ROC score \n",
    "probabilities_valid03 = model_03.predict_proba(features_valid)\n",
    "probabilities_one_valid03 = probabilities_valid03[:, 1]\n",
    "\n",
    "auc_roc = roc_auc_score(target_valid, probabilities_one_valid03)\n",
    "\n",
    "print('AUC-ROC score:', auc_roc)\n"
   ]
  },
  {
   "cell_type": "code",
   "execution_count": 47,
   "metadata": {},
   "outputs": [
    {
     "name": "stdout",
     "output_type": "stream",
     "text": [
      "F1 of the best model on the validation set: 0.5842391304347826 n_estimators: 360 best_depth: 1000\n",
      "AUC-ROC score: 0.8495825792961776\n"
     ]
    }
   ],
   "source": [
    "# Random Forest, not balanced, upsampled (2 min run)\n",
    "best_model = None\n",
    "best_result = 0\n",
    "best_est = 0\n",
    "best_depth = 0\n",
    "for est in range(200, 400, 20):\n",
    "    for depth in range (900, 1001, 50):\n",
    "        model3 = RandomForestClassifier(random_state=19, n_estimators=est, max_depth=depth)\n",
    "        model3.fit(features_upsampled, target_upsampled) # using balanced, upsampled data\n",
    "        predictions_valid3 = model3.predict(features_valid) \n",
    "        result3 = f1_score(target_valid, predictions_valid3) \n",
    "        if result3 > best_result:\n",
    "            best_model = model3\n",
    "            best_result = result3\n",
    "            best_est = est\n",
    "            best_depth1 = depth\n",
    "\n",
    "print(\"F1 of the best model on the validation set:\", best_result, \"n_estimators:\", best_est, \"best_depth:\", depth)\n",
    "\n",
    "# AUC-ROC score \n",
    "probabilities_valid3 = model3.predict_proba(features_valid)\n",
    "probabilities_one_valid3 = probabilities_valid3[:, 1]\n",
    "\n",
    "auc_roc = roc_auc_score(target_valid, probabilities_one_valid3)\n",
    "\n",
    "print('AUC-ROC score:', auc_roc)\n"
   ]
  },
  {
   "cell_type": "code",
   "execution_count": 48,
   "metadata": {},
   "outputs": [
    {
     "name": "stdout",
     "output_type": "stream",
     "text": [
      "F1 of the best model on the validation set: 0.578082191780822 n_estimators: 220 best_depth: 1000\n",
      "AUC-ROC score: 0.8531966080555623\n"
     ]
    }
   ],
   "source": [
    "# Random Forest, balanced, upsampled (2 min run)\n",
    "best_model = None\n",
    "best_result = 0\n",
    "best_est = 0\n",
    "best_depth = 0\n",
    "for est in range(200, 400, 20):\n",
    "    for depth in range (900, 1001, 50):\n",
    "        model30 = RandomForestClassifier(random_state=19, class_weight='balanced', n_estimators=est, max_depth=depth)\n",
    "        model30.fit(features_upsampled, target_upsampled) # using balanced, upsampled data\n",
    "        predictions_valid30 = model30.predict(features_valid) \n",
    "        result30 = f1_score(target_valid, predictions_valid30) \n",
    "        if result3 > best_result:\n",
    "            best_model = model30\n",
    "            best_result = result30\n",
    "            best_est = est\n",
    "            best_depth1 = depth\n",
    "\n",
    "print(\"F1 of the best model on the validation set:\", best_result, \"n_estimators:\", best_est, \"best_depth:\", depth)\n",
    "\n",
    "# AUC-ROC score \n",
    "probabilities_valid30 = model30.predict_proba(features_valid)\n",
    "probabilities_one_valid30 = probabilities_valid30[:, 1]\n",
    "\n",
    "auc_roc = roc_auc_score(target_valid, probabilities_one_valid30)\n",
    "\n",
    "print('AUC-ROC score:', auc_roc)\n",
    "\n",
    "# final_model = RandomForestClassifier(random_state=19, n_estimators=320, max_depth=10000) \n",
    "# final_model.fit(features_train, target_train)"
   ]
  },
  {
   "cell_type": "markdown",
   "metadata": {},
   "source": [
    "Results are slightly better using the upsampled data. This model has the best F1 score, therefore we will use it for our final model. "
   ]
  },
  {
   "cell_type": "markdown",
   "metadata": {},
   "source": [
    "## Final Model"
   ]
  },
  {
   "cell_type": "code",
   "execution_count": 49,
   "metadata": {},
   "outputs": [
    {
     "name": "stdout",
     "output_type": "stream",
     "text": [
      "0.5940054495912805\n"
     ]
    }
   ],
   "source": [
    "# Final model F1 score\n",
    "final_model = RandomForestClassifier(random_state=19, n_estimators=360, max_depth=1000) \n",
    "final_model.fit(features_upsampled, target_upsampled)\n",
    "final_prediction = final_model.predict(features_test)\n",
    "print(f1_score(final_prediction, target_test))"
   ]
  },
  {
   "cell_type": "markdown",
   "metadata": {},
   "source": [
    "Final model uses 360 estimators and a max depth of 1,000. The F1 score meets our threshold of 0.59."
   ]
  },
  {
   "cell_type": "markdown",
   "metadata": {},
   "source": [
    "### AUC ROC"
   ]
  },
  {
   "cell_type": "code",
   "execution_count": 50,
   "metadata": {},
   "outputs": [
    {
     "name": "stdout",
     "output_type": "stream",
     "text": [
      "0.8483975071124363\n"
     ]
    }
   ],
   "source": [
    "# AUC-ROC score \n",
    "probabilities_test = final_model.predict_proba(features_test)\n",
    "probabilities_one_test = probabilities_test[:, 1]\n",
    "\n",
    "auc_roc = roc_auc_score(target_test, probabilities_one_test)\n",
    "\n",
    "print(auc_roc)"
   ]
  },
  {
   "cell_type": "code",
   "execution_count": 60,
   "metadata": {},
   "outputs": [
    {
     "data": {
      "application/vnd.plotly.v1+json": {
       "config": {
        "plotlyServerURL": "https://plot.ly"
       },
       "data": [
        {
         "hovertemplate": "fpr=%{x}<br>tpr=%{y}<extra></extra>",
         "legendgroup": "",
         "line": {
          "color": "#636efa",
          "dash": "solid"
         },
         "marker": {
          "symbol": "circle"
         },
         "mode": "lines",
         "name": "",
         "orientation": "v",
         "showlegend": false,
         "type": "scatter",
         "x": [
          0,
          0,
          0,
          0,
          0.0006261740763932373,
          0.0006261740763932373,
          0.0012523481527864746,
          0.0012523481527864746,
          0.0012523481527864746,
          0.0012523481527864746,
          0.0012523481527864746,
          0.0012523481527864746,
          0.0012523481527864746,
          0.0012523481527864746,
          0.0012523481527864746,
          0.001878522229179712,
          0.001878522229179712,
          0.001878522229179712,
          0.002504696305572949,
          0.002504696305572949,
          0.002504696305572949,
          0.002504696305572949,
          0.002504696305572949,
          0.002504696305572949,
          0.0031308703819661866,
          0.0031308703819661866,
          0.003757044458359424,
          0.003757044458359424,
          0.005009392611145898,
          0.005009392611145898,
          0.005009392611145898,
          0.005009392611145898,
          0.005009392611145898,
          0.005009392611145898,
          0.0068879148403256105,
          0.008140262993112084,
          0.008140262993112084,
          0.008766437069505322,
          0.008766437069505322,
          0.00939261114589856,
          0.00939261114589856,
          0.00939261114589856,
          0.00939261114589856,
          0.00939261114589856,
          0.010018785222291797,
          0.010644959298685034,
          0.010644959298685034,
          0.011897307451471509,
          0.011897307451471509,
          0.012523481527864746,
          0.012523481527864746,
          0.013775829680651221,
          0.013775829680651221,
          0.015028177833437696,
          0.015028177833437696,
          0.015028177833437696,
          0.01628052598622417,
          0.01628052598622417,
          0.01628052598622417,
          0.01628052598622417,
          0.016906700062617408,
          0.016906700062617408,
          0.01878522229179712,
          0.019411396368190358,
          0.019411396368190358,
          0.020037570444583593,
          0.020663744520976832,
          0.021289918597370068,
          0.022542266750156543,
          0.023168440826549782,
          0.023168440826549782,
          0.023794614902943018,
          0.025046963055729492,
          0.02567313713212273,
          0.026925485284909206,
          0.027551659361302442,
          0.028177833437695678,
          0.029430181590482152,
          0.03005635566687539,
          0.031308703819661866,
          0.031308703819661866,
          0.031934877896055106,
          0.031934877896055106,
          0.03256105197244834,
          0.033813400125234816,
          0.035691922354414526,
          0.035691922354414526,
          0.035691922354414526,
          0.036944270507201005,
          0.036944270507201005,
          0.03757044458359424,
          0.038196618659987476,
          0.038822792736380715,
          0.039448966812773954,
          0.039448966812773954,
          0.040701314965560426,
          0.041327489041953665,
          0.041953663118346904,
          0.042579837194740136,
          0.042579837194740136,
          0.043206011271133375,
          0.044458359423919847,
          0.045710707576706325,
          0.046963055729492796,
          0.048841577958672514,
          0.048841577958672514,
          0.050720100187852224,
          0.051972448340638695,
          0.051972448340638695,
          0.051972448340638695,
          0.051972448340638695,
          0.052598622417031934,
          0.052598622417031934,
          0.05385097056981841,
          0.054477144646211645,
          0.055103318722604884,
          0.05572949279899812,
          0.056355666875391355,
          0.057608015028177834,
          0.05823418910457107,
          0.061991233562930494,
          0.06261740763932373,
          0.06324358171571696,
          0.06386975579211021,
          0.06386975579211021,
          0.06449592986850344,
          0.06574827802128992,
          0.06574827802128992,
          0.06762680025046963,
          0.07075767063243582,
          0.07138384470882905,
          0.07263619286161553,
          0.07326236693800876,
          0.07326236693800876,
          0.07388854101440201,
          0.07639323731997495,
          0.07764558547276143,
          0.07889793362554791,
          0.07889793362554791,
          0.07952410770194114,
          0.08077645585472762,
          0.08265497808390733,
          0.08453350031308704,
          0.08515967438948027,
          0.08578584846587352,
          0.08891671884783969,
          0.09016906700062617,
          0.09204758922980588,
          0.09267376330619913,
          0.09329993738259236,
          0.09580463368816532,
          0.09893550407013149,
          0.1008140262993112,
          0.10206637445209768,
          0.10394489668127739,
          0.10457107075767064,
          0.1058234189104571,
          0.10644959298685035,
          0.10958046336881654,
          0.11208515967438948,
          0.11271133375078271,
          0.11646837820914215,
          0.11897307451471509,
          0.1208515967438948,
          0.12210394489668128,
          0.1258609893550407,
          0.12836568566061365,
          0.12961803381340012,
          0.1308703819661866,
          0.13212273011897308,
          0.1358797745773325,
          0.13838447088290545,
          0.14026299311208515,
          0.1427676894176581,
          0.14652473387601753,
          0.14715090795241076,
          0.14902943018159048,
          0.15028177833437695,
          0.1527864746399499,
          0.15403882279273637,
          0.1559173450219161,
          0.15779586725109582,
          0.16092673763306198,
          0.16405760801502817,
          0.16468378209142143,
          0.16718847839699436,
          0.1696931747025673,
          0.17219787100814027,
          0.17345021916092673,
          0.17845961177207265,
          0.17908578584846588,
          0.1797119599248591,
          0.18221665623043207,
          0.18409517845961176,
          0.18722604884157795,
          0.18785222291797118,
          0.18910457107075768,
          0.19160926737633063,
          0.1959924859110833,
          0.19912335629304947,
          0.20100187852222917,
          0.2047589229805886,
          0.20726361928616155,
          0.20788979336255478,
          0.21102066374452097,
          0.21352536005009393,
          0.21665623043206012,
          0.21916092673763307,
          0.22354414527238572,
          0.22604884157795868,
          0.2298058860363181,
          0.2316844082654978,
          0.2366938008766437,
          0.24045084533500313,
          0.24358171571696932,
          0.2467125860989355,
          0.2510958046336882,
          0.2573575453976205,
          0.2617407639323732,
          0.2654978083907326,
          0.27301189730745146,
          0.27802128991859737,
          0.28240450845335,
          0.2886662492172824,
          0.2936756418284283,
          0.29931120851596743,
          0.30619912335629307,
          0.3112085159674389,
          0.3168440826549781,
          0.32185347526612396,
          0.32999373825923606,
          0.3343769567939887,
          0.3406386975579211,
          0.34627426424546026,
          0.3506574827802129,
          0.3537883531621791,
          0.3606762680025047,
          0.3656856606136506,
          0.3706950532247965,
          0.37319974953036944,
          0.3794614902943018,
          0.38134001252348154,
          0.3888541014402004,
          0.3944896681277395,
          0.4001252348152787,
          0.408891671884784,
          0.4139010644959299,
          0.4176581089542893,
          0.42141515341264874,
          0.4308077645585473,
          0.44145272385723233,
          0.4495929868503444,
          0.4533500313087038,
          0.45835942391984974,
          0.46775203506574825,
          0.47213525360050096,
          0.48090169067000627,
          0.4865372573575454,
          0.49217282404508456,
          0.4996869129618034,
          0.5059486537257357,
          0.5115842204132749,
          0.5172197871008141,
          0.5266123982467126,
          0.5341264871634315,
          0.54351909830933,
          0.5535378835316218,
          0.5585472761427677,
          0.5679398872886663,
          0.5760801502817783,
          0.5860989355040701,
          0.593613024420789,
          0.6055103318722604,
          0.6211646837820914,
          0.63055729492799,
          0.6393237319974953,
          0.6505948653725736,
          0.6643706950532248,
          0.6743894802755166,
          0.6862867877269881,
          0.6981840951784596,
          0.7082028804007514,
          0.7188478396994364,
          0.7326236693800877,
          0.7470256731371321,
          0.7557921102066374,
          0.7658108954289292,
          0.7789605510331872,
          0.7845961177207263,
          0.799624295554164,
          0.815278647463995,
          0.8278021289918598,
          0.8428303068252975,
          0.8559799624295554,
          0.8747651847213526,
          0.8991859737006888,
          0.9185973700688791,
          0.9355040701314965,
          0.9442705072010019,
          0.9592986850344396,
          0.9737006887914841,
          0.9818409517845961,
          0.9937382592360676,
          1
         ],
         "xaxis": "x",
         "y": [
          0,
          0.0024813895781637717,
          0.007444168734491315,
          0.01488833746898263,
          0.01488833746898263,
          0.017369727047146403,
          0.019851116625310174,
          0.02977667493796526,
          0.03722084367245657,
          0.04218362282878412,
          0.04466501240694789,
          0.05459057071960298,
          0.06947890818858561,
          0.0794044665012407,
          0.08933002481389578,
          0.09429280397022333,
          0.10173697270471464,
          0.10421836228287841,
          0.10918114143920596,
          0.11662531017369727,
          0.12655086848635236,
          0.1315136476426799,
          0.13647642679900746,
          0.13895781637717122,
          0.15384615384615385,
          0.1588089330024814,
          0.16129032258064516,
          0.1687344913151365,
          0.17866004962779156,
          0.18362282878411912,
          0.1935483870967742,
          0.20099255583126552,
          0.20347394540942929,
          0.20843672456575682,
          0.22332506203473945,
          0.228287841191067,
          0.23325062034739455,
          0.23821339950372208,
          0.24317617866004962,
          0.24813895781637718,
          0.2531017369727047,
          0.2555831265508685,
          0.2630272952853598,
          0.2655086848635236,
          0.2729528535980149,
          0.27791563275434245,
          0.2878411910669975,
          0.29528535980148884,
          0.2977667493796526,
          0.3027295285359802,
          0.3052109181141439,
          0.31017369727047145,
          0.315136476426799,
          0.3176178660049628,
          0.3200992555831266,
          0.3250620347394541,
          0.32754342431761785,
          0.337468982630273,
          0.3399503722084367,
          0.34739454094292804,
          0.3523573200992556,
          0.3548387096774194,
          0.3548387096774194,
          0.3548387096774194,
          0.3573200992555831,
          0.3598014888337469,
          0.3598014888337469,
          0.36228287841191065,
          0.36476426799007444,
          0.36724565756823824,
          0.369727047146402,
          0.369727047146402,
          0.37220843672456577,
          0.3746898263027295,
          0.37965260545905705,
          0.38461538461538464,
          0.38461538461538464,
          0.38957816377171217,
          0.38957816377171217,
          0.3970223325062035,
          0.4044665012406948,
          0.40694789081885857,
          0.4094292803970223,
          0.4119106699751861,
          0.4119106699751861,
          0.4119106699751861,
          0.4143920595533499,
          0.41935483870967744,
          0.41935483870967744,
          0.42431761786600497,
          0.42431761786600497,
          0.4317617866004963,
          0.43672456575682383,
          0.4392059553349876,
          0.4441687344913151,
          0.4466501240694789,
          0.45161290322580644,
          0.45409429280397023,
          0.45905707196029777,
          0.46153846153846156,
          0.46153846153846156,
          0.4665012406947891,
          0.47146401985111663,
          0.47146401985111663,
          0.47890818858560796,
          0.4838709677419355,
          0.48635235732009924,
          0.48883374689826303,
          0.49627791563275436,
          0.5012406947890818,
          0.5037220843672456,
          0.5037220843672456,
          0.5062034739454094,
          0.511166253101737,
          0.511166253101737,
          0.5136476426799007,
          0.5210918114143921,
          0.5235732009925558,
          0.5235732009925558,
          0.5235732009925558,
          0.5285359801488834,
          0.5310173697270472,
          0.5310173697270472,
          0.533498759305211,
          0.5359801488833746,
          0.5359801488833746,
          0.5384615384615384,
          0.5409429280397022,
          0.5409429280397022,
          0.5409429280397022,
          0.543424317617866,
          0.5533498759305211,
          0.5533498759305211,
          0.5607940446650124,
          0.56575682382134,
          0.5707196029776674,
          0.5707196029776674,
          0.5732009925558312,
          0.575682382133995,
          0.5806451612903226,
          0.5856079404466501,
          0.5905707196029777,
          0.5905707196029777,
          0.5955334987593052,
          0.598014888337469,
          0.6004962779156328,
          0.6004962779156328,
          0.6004962779156328,
          0.6054590570719603,
          0.607940446650124,
          0.607940446650124,
          0.6104218362282878,
          0.6129032258064516,
          0.6129032258064516,
          0.6153846153846154,
          0.6153846153846154,
          0.6153846153846154,
          0.6228287841191067,
          0.6253101736972705,
          0.6277915632754343,
          0.630272952853598,
          0.630272952853598,
          0.630272952853598,
          0.6327543424317618,
          0.6352357320099256,
          0.6451612903225806,
          0.6501240694789082,
          0.6550868486352357,
          0.6550868486352357,
          0.6600496277915633,
          0.6625310173697271,
          0.6650124069478908,
          0.6650124069478908,
          0.6650124069478908,
          0.6674937965260546,
          0.6674937965260546,
          0.6674937965260546,
          0.6674937965260546,
          0.674937965260546,
          0.6799007444168734,
          0.684863523573201,
          0.6873449131513648,
          0.6947890818858561,
          0.6972704714640199,
          0.6997518610421837,
          0.7022332506203474,
          0.7022332506203474,
          0.707196029776675,
          0.7121588089330024,
          0.7121588089330024,
          0.71712158808933,
          0.71712158808933,
          0.7220843672456576,
          0.7245657568238213,
          0.7270471464019851,
          0.7270471464019851,
          0.7295285359801489,
          0.7295285359801489,
          0.7320099255583127,
          0.7320099255583127,
          0.7369727047146402,
          0.7369727047146402,
          0.739454094292804,
          0.739454094292804,
          0.739454094292804,
          0.7468982630272953,
          0.7468982630272953,
          0.7468982630272953,
          0.749379652605459,
          0.7543424317617866,
          0.7568238213399504,
          0.7568238213399504,
          0.7593052109181141,
          0.7593052109181141,
          0.7642679900744417,
          0.7642679900744417,
          0.7667493796526055,
          0.771712158808933,
          0.771712158808933,
          0.7816377171215881,
          0.7816377171215881,
          0.7890818858560794,
          0.794044665012407,
          0.7990074441687345,
          0.8039702233250621,
          0.8089330024813896,
          0.8163771712158809,
          0.8188585607940446,
          0.826302729528536,
          0.826302729528536,
          0.8287841191066998,
          0.8287841191066998,
          0.8312655086848635,
          0.8362282878411911,
          0.8387096774193549,
          0.8436724565756824,
          0.8511166253101737,
          0.8511166253101737,
          0.8535980148883374,
          0.8635235732009926,
          0.8635235732009926,
          0.8684863523573201,
          0.8709677419354839,
          0.8784119106699751,
          0.8784119106699751,
          0.8784119106699751,
          0.8784119106699751,
          0.8784119106699751,
          0.8808933002481389,
          0.8883374689826302,
          0.8957816377171216,
          0.8957816377171216,
          0.8957816377171216,
          0.9032258064516129,
          0.9057071960297767,
          0.9106699751861043,
          0.9106699751861043,
          0.9156327543424317,
          0.9181141439205955,
          0.9230769230769231,
          0.9230769230769231,
          0.9255583126550868,
          0.9255583126550868,
          0.9280397022332506,
          0.9305210918114144,
          0.9354838709677419,
          0.9354838709677419,
          0.9354838709677419,
          0.9379652605459057,
          0.9379652605459057,
          0.9379652605459057,
          0.9379652605459057,
          0.9404466501240695,
          0.9404466501240695,
          0.9404466501240695,
          0.9478908188585607,
          0.9528535980148883,
          0.9528535980148883,
          0.9578163771712159,
          0.9578163771712159,
          0.9627791563275434,
          0.9652605459057072,
          0.967741935483871,
          0.9702233250620348,
          0.9727047146401985,
          0.9751861042183623,
          0.9801488833746899,
          0.9826302729528535,
          0.9851116625310173,
          0.9851116625310173,
          0.9851116625310173,
          0.9851116625310173,
          0.9851116625310173,
          0.9875930521091811,
          0.9900744416873449,
          0.9925558312655087,
          0.9925558312655087,
          0.9950372208436724,
          0.9950372208436724,
          0.9950372208436724,
          0.9975186104218362,
          1,
          1,
          1
         ],
         "yaxis": "y"
        }
       ],
       "layout": {
        "legend": {
         "tracegroupgap": 0
        },
        "template": {
         "data": {
          "bar": [
           {
            "error_x": {
             "color": "#2a3f5f"
            },
            "error_y": {
             "color": "#2a3f5f"
            },
            "marker": {
             "line": {
              "color": "#E5ECF6",
              "width": 0.5
             },
             "pattern": {
              "fillmode": "overlay",
              "size": 10,
              "solidity": 0.2
             }
            },
            "type": "bar"
           }
          ],
          "barpolar": [
           {
            "marker": {
             "line": {
              "color": "#E5ECF6",
              "width": 0.5
             },
             "pattern": {
              "fillmode": "overlay",
              "size": 10,
              "solidity": 0.2
             }
            },
            "type": "barpolar"
           }
          ],
          "carpet": [
           {
            "aaxis": {
             "endlinecolor": "#2a3f5f",
             "gridcolor": "white",
             "linecolor": "white",
             "minorgridcolor": "white",
             "startlinecolor": "#2a3f5f"
            },
            "baxis": {
             "endlinecolor": "#2a3f5f",
             "gridcolor": "white",
             "linecolor": "white",
             "minorgridcolor": "white",
             "startlinecolor": "#2a3f5f"
            },
            "type": "carpet"
           }
          ],
          "choropleth": [
           {
            "colorbar": {
             "outlinewidth": 0,
             "ticks": ""
            },
            "type": "choropleth"
           }
          ],
          "contour": [
           {
            "colorbar": {
             "outlinewidth": 0,
             "ticks": ""
            },
            "colorscale": [
             [
              0,
              "#0d0887"
             ],
             [
              0.1111111111111111,
              "#46039f"
             ],
             [
              0.2222222222222222,
              "#7201a8"
             ],
             [
              0.3333333333333333,
              "#9c179e"
             ],
             [
              0.4444444444444444,
              "#bd3786"
             ],
             [
              0.5555555555555556,
              "#d8576b"
             ],
             [
              0.6666666666666666,
              "#ed7953"
             ],
             [
              0.7777777777777778,
              "#fb9f3a"
             ],
             [
              0.8888888888888888,
              "#fdca26"
             ],
             [
              1,
              "#f0f921"
             ]
            ],
            "type": "contour"
           }
          ],
          "contourcarpet": [
           {
            "colorbar": {
             "outlinewidth": 0,
             "ticks": ""
            },
            "type": "contourcarpet"
           }
          ],
          "heatmap": [
           {
            "colorbar": {
             "outlinewidth": 0,
             "ticks": ""
            },
            "colorscale": [
             [
              0,
              "#0d0887"
             ],
             [
              0.1111111111111111,
              "#46039f"
             ],
             [
              0.2222222222222222,
              "#7201a8"
             ],
             [
              0.3333333333333333,
              "#9c179e"
             ],
             [
              0.4444444444444444,
              "#bd3786"
             ],
             [
              0.5555555555555556,
              "#d8576b"
             ],
             [
              0.6666666666666666,
              "#ed7953"
             ],
             [
              0.7777777777777778,
              "#fb9f3a"
             ],
             [
              0.8888888888888888,
              "#fdca26"
             ],
             [
              1,
              "#f0f921"
             ]
            ],
            "type": "heatmap"
           }
          ],
          "heatmapgl": [
           {
            "colorbar": {
             "outlinewidth": 0,
             "ticks": ""
            },
            "colorscale": [
             [
              0,
              "#0d0887"
             ],
             [
              0.1111111111111111,
              "#46039f"
             ],
             [
              0.2222222222222222,
              "#7201a8"
             ],
             [
              0.3333333333333333,
              "#9c179e"
             ],
             [
              0.4444444444444444,
              "#bd3786"
             ],
             [
              0.5555555555555556,
              "#d8576b"
             ],
             [
              0.6666666666666666,
              "#ed7953"
             ],
             [
              0.7777777777777778,
              "#fb9f3a"
             ],
             [
              0.8888888888888888,
              "#fdca26"
             ],
             [
              1,
              "#f0f921"
             ]
            ],
            "type": "heatmapgl"
           }
          ],
          "histogram": [
           {
            "marker": {
             "pattern": {
              "fillmode": "overlay",
              "size": 10,
              "solidity": 0.2
             }
            },
            "type": "histogram"
           }
          ],
          "histogram2d": [
           {
            "colorbar": {
             "outlinewidth": 0,
             "ticks": ""
            },
            "colorscale": [
             [
              0,
              "#0d0887"
             ],
             [
              0.1111111111111111,
              "#46039f"
             ],
             [
              0.2222222222222222,
              "#7201a8"
             ],
             [
              0.3333333333333333,
              "#9c179e"
             ],
             [
              0.4444444444444444,
              "#bd3786"
             ],
             [
              0.5555555555555556,
              "#d8576b"
             ],
             [
              0.6666666666666666,
              "#ed7953"
             ],
             [
              0.7777777777777778,
              "#fb9f3a"
             ],
             [
              0.8888888888888888,
              "#fdca26"
             ],
             [
              1,
              "#f0f921"
             ]
            ],
            "type": "histogram2d"
           }
          ],
          "histogram2dcontour": [
           {
            "colorbar": {
             "outlinewidth": 0,
             "ticks": ""
            },
            "colorscale": [
             [
              0,
              "#0d0887"
             ],
             [
              0.1111111111111111,
              "#46039f"
             ],
             [
              0.2222222222222222,
              "#7201a8"
             ],
             [
              0.3333333333333333,
              "#9c179e"
             ],
             [
              0.4444444444444444,
              "#bd3786"
             ],
             [
              0.5555555555555556,
              "#d8576b"
             ],
             [
              0.6666666666666666,
              "#ed7953"
             ],
             [
              0.7777777777777778,
              "#fb9f3a"
             ],
             [
              0.8888888888888888,
              "#fdca26"
             ],
             [
              1,
              "#f0f921"
             ]
            ],
            "type": "histogram2dcontour"
           }
          ],
          "mesh3d": [
           {
            "colorbar": {
             "outlinewidth": 0,
             "ticks": ""
            },
            "type": "mesh3d"
           }
          ],
          "parcoords": [
           {
            "line": {
             "colorbar": {
              "outlinewidth": 0,
              "ticks": ""
             }
            },
            "type": "parcoords"
           }
          ],
          "pie": [
           {
            "automargin": true,
            "type": "pie"
           }
          ],
          "scatter": [
           {
            "marker": {
             "colorbar": {
              "outlinewidth": 0,
              "ticks": ""
             }
            },
            "type": "scatter"
           }
          ],
          "scatter3d": [
           {
            "line": {
             "colorbar": {
              "outlinewidth": 0,
              "ticks": ""
             }
            },
            "marker": {
             "colorbar": {
              "outlinewidth": 0,
              "ticks": ""
             }
            },
            "type": "scatter3d"
           }
          ],
          "scattercarpet": [
           {
            "marker": {
             "colorbar": {
              "outlinewidth": 0,
              "ticks": ""
             }
            },
            "type": "scattercarpet"
           }
          ],
          "scattergeo": [
           {
            "marker": {
             "colorbar": {
              "outlinewidth": 0,
              "ticks": ""
             }
            },
            "type": "scattergeo"
           }
          ],
          "scattergl": [
           {
            "marker": {
             "colorbar": {
              "outlinewidth": 0,
              "ticks": ""
             }
            },
            "type": "scattergl"
           }
          ],
          "scattermapbox": [
           {
            "marker": {
             "colorbar": {
              "outlinewidth": 0,
              "ticks": ""
             }
            },
            "type": "scattermapbox"
           }
          ],
          "scatterpolar": [
           {
            "marker": {
             "colorbar": {
              "outlinewidth": 0,
              "ticks": ""
             }
            },
            "type": "scatterpolar"
           }
          ],
          "scatterpolargl": [
           {
            "marker": {
             "colorbar": {
              "outlinewidth": 0,
              "ticks": ""
             }
            },
            "type": "scatterpolargl"
           }
          ],
          "scatterternary": [
           {
            "marker": {
             "colorbar": {
              "outlinewidth": 0,
              "ticks": ""
             }
            },
            "type": "scatterternary"
           }
          ],
          "surface": [
           {
            "colorbar": {
             "outlinewidth": 0,
             "ticks": ""
            },
            "colorscale": [
             [
              0,
              "#0d0887"
             ],
             [
              0.1111111111111111,
              "#46039f"
             ],
             [
              0.2222222222222222,
              "#7201a8"
             ],
             [
              0.3333333333333333,
              "#9c179e"
             ],
             [
              0.4444444444444444,
              "#bd3786"
             ],
             [
              0.5555555555555556,
              "#d8576b"
             ],
             [
              0.6666666666666666,
              "#ed7953"
             ],
             [
              0.7777777777777778,
              "#fb9f3a"
             ],
             [
              0.8888888888888888,
              "#fdca26"
             ],
             [
              1,
              "#f0f921"
             ]
            ],
            "type": "surface"
           }
          ],
          "table": [
           {
            "cells": {
             "fill": {
              "color": "#EBF0F8"
             },
             "line": {
              "color": "white"
             }
            },
            "header": {
             "fill": {
              "color": "#C8D4E3"
             },
             "line": {
              "color": "white"
             }
            },
            "type": "table"
           }
          ]
         },
         "layout": {
          "annotationdefaults": {
           "arrowcolor": "#2a3f5f",
           "arrowhead": 0,
           "arrowwidth": 1
          },
          "autotypenumbers": "strict",
          "coloraxis": {
           "colorbar": {
            "outlinewidth": 0,
            "ticks": ""
           }
          },
          "colorscale": {
           "diverging": [
            [
             0,
             "#8e0152"
            ],
            [
             0.1,
             "#c51b7d"
            ],
            [
             0.2,
             "#de77ae"
            ],
            [
             0.3,
             "#f1b6da"
            ],
            [
             0.4,
             "#fde0ef"
            ],
            [
             0.5,
             "#f7f7f7"
            ],
            [
             0.6,
             "#e6f5d0"
            ],
            [
             0.7,
             "#b8e186"
            ],
            [
             0.8,
             "#7fbc41"
            ],
            [
             0.9,
             "#4d9221"
            ],
            [
             1,
             "#276419"
            ]
           ],
           "sequential": [
            [
             0,
             "#0d0887"
            ],
            [
             0.1111111111111111,
             "#46039f"
            ],
            [
             0.2222222222222222,
             "#7201a8"
            ],
            [
             0.3333333333333333,
             "#9c179e"
            ],
            [
             0.4444444444444444,
             "#bd3786"
            ],
            [
             0.5555555555555556,
             "#d8576b"
            ],
            [
             0.6666666666666666,
             "#ed7953"
            ],
            [
             0.7777777777777778,
             "#fb9f3a"
            ],
            [
             0.8888888888888888,
             "#fdca26"
            ],
            [
             1,
             "#f0f921"
            ]
           ],
           "sequentialminus": [
            [
             0,
             "#0d0887"
            ],
            [
             0.1111111111111111,
             "#46039f"
            ],
            [
             0.2222222222222222,
             "#7201a8"
            ],
            [
             0.3333333333333333,
             "#9c179e"
            ],
            [
             0.4444444444444444,
             "#bd3786"
            ],
            [
             0.5555555555555556,
             "#d8576b"
            ],
            [
             0.6666666666666666,
             "#ed7953"
            ],
            [
             0.7777777777777778,
             "#fb9f3a"
            ],
            [
             0.8888888888888888,
             "#fdca26"
            ],
            [
             1,
             "#f0f921"
            ]
           ]
          },
          "colorway": [
           "#636efa",
           "#EF553B",
           "#00cc96",
           "#ab63fa",
           "#FFA15A",
           "#19d3f3",
           "#FF6692",
           "#B6E880",
           "#FF97FF",
           "#FECB52"
          ],
          "font": {
           "color": "#2a3f5f"
          },
          "geo": {
           "bgcolor": "white",
           "lakecolor": "white",
           "landcolor": "#E5ECF6",
           "showlakes": true,
           "showland": true,
           "subunitcolor": "white"
          },
          "hoverlabel": {
           "align": "left"
          },
          "hovermode": "closest",
          "mapbox": {
           "style": "light"
          },
          "paper_bgcolor": "white",
          "plot_bgcolor": "#E5ECF6",
          "polar": {
           "angularaxis": {
            "gridcolor": "white",
            "linecolor": "white",
            "ticks": ""
           },
           "bgcolor": "#E5ECF6",
           "radialaxis": {
            "gridcolor": "white",
            "linecolor": "white",
            "ticks": ""
           }
          },
          "scene": {
           "xaxis": {
            "backgroundcolor": "#E5ECF6",
            "gridcolor": "white",
            "gridwidth": 2,
            "linecolor": "white",
            "showbackground": true,
            "ticks": "",
            "zerolinecolor": "white"
           },
           "yaxis": {
            "backgroundcolor": "#E5ECF6",
            "gridcolor": "white",
            "gridwidth": 2,
            "linecolor": "white",
            "showbackground": true,
            "ticks": "",
            "zerolinecolor": "white"
           },
           "zaxis": {
            "backgroundcolor": "#E5ECF6",
            "gridcolor": "white",
            "gridwidth": 2,
            "linecolor": "white",
            "showbackground": true,
            "ticks": "",
            "zerolinecolor": "white"
           }
          },
          "shapedefaults": {
           "line": {
            "color": "#2a3f5f"
           }
          },
          "ternary": {
           "aaxis": {
            "gridcolor": "white",
            "linecolor": "white",
            "ticks": ""
           },
           "baxis": {
            "gridcolor": "white",
            "linecolor": "white",
            "ticks": ""
           },
           "bgcolor": "#E5ECF6",
           "caxis": {
            "gridcolor": "white",
            "linecolor": "white",
            "ticks": ""
           }
          },
          "title": {
           "x": 0.05
          },
          "xaxis": {
           "automargin": true,
           "gridcolor": "white",
           "linecolor": "white",
           "ticks": "",
           "title": {
            "standoff": 15
           },
           "zerolinecolor": "white",
           "zerolinewidth": 2
          },
          "yaxis": {
           "automargin": true,
           "gridcolor": "white",
           "linecolor": "white",
           "ticks": "",
           "title": {
            "standoff": 15
           },
           "zerolinecolor": "white",
           "zerolinewidth": 2
          }
         }
        },
        "title": {
         "text": "AUC ROC Curve (AUC=0.848)"
        },
        "xaxis": {
         "anchor": "y",
         "domain": [
          0,
          1
         ],
         "title": {
          "text": "fpr"
         }
        },
        "yaxis": {
         "anchor": "x",
         "domain": [
          0,
          1
         ],
         "title": {
          "text": "tpr"
         }
        }
       }
      }
     },
     "metadata": {},
     "output_type": "display_data"
    }
   ],
   "source": [
    "# visual of AUC ROC\n",
    "fpr, tpr, thresholds = roc_curve(target_test, probabilities_one_test)\n",
    "roc_data = {'fpr': fpr, 'tpr': tpr, 'thresholds': thresholds}\n",
    "fig = px.line(roc_data, x='fpr', y='tpr', labels={'x':'False Positive Rate', 'y': 'True Positive Rate'}, \n",
    "              title=f'AUC ROC Curve (AUC={auc_roc:.3f})')\n",
    "fig.show()"
   ]
  },
  {
   "cell_type": "markdown",
   "metadata": {},
   "source": [
    "Area under the curve is greater than 0.50, which would be the value of a random model. The AUC-ROC is greater than a random model."
   ]
  },
  {
   "cell_type": "markdown",
   "metadata": {},
   "source": [
    "## Overall Conclusions"
   ]
  },
  {
   "attachments": {},
   "cell_type": "markdown",
   "metadata": {},
   "source": [
    "We were able to make a model that could predict whether a Beta Bank customer would churn. Using the key numeric features, and a few categorical features, we were able to train our model to achieve an F1 score of 0.594 on our test set. This F1 score is above the metric of a random model, which would have an F1 score of 0.5.  Looking at other metrics, we see our model is relatively accurate, at 0.851 with the test data. Based on the results of the classification report, we had greater precision and recall predicting when a customer would not churn. The model was fairly precise in predicting churn, and weak when it came to recalling churn. This means the model was not good at predicting most of the customers that would churn. Since F1 is a measure of precision and accuracy, our F1 score appears low. However, we achieved our 0.59 target with our test set. Furthermore, our AUC-ROC metric determines how much our model differs from a random model with an AUC-ROC of 0.50. An AUC-ROC score of 0.848 means our model is better at predicting churn than chance. Overall, Beta Bank can use this model to predict which customers will not churn. From there, they can determine the features that may contribute to a customer staying with them, in order to retain much more customers. Alternatively, this model can predict a decent portion of customers that would churn. We suggest more data is collected, with more features that could contribute to customers churning. Another way of improving the model would be to be to see if the max depth approaches a limit. Data without missing tenures would also aid in improving the results, as well as more balanced data on churned customers. "
   ]
  }
 ],
 "metadata": {
  "kernelspec": {
   "display_name": "Python 3 (ipykernel)",
   "language": "python",
   "name": "python3"
  },
  "language_info": {
   "codemirror_mode": {
    "name": "ipython",
    "version": 3
   },
   "file_extension": ".py",
   "mimetype": "text/x-python",
   "name": "python",
   "nbconvert_exporter": "python",
   "pygments_lexer": "ipython3",
   "version": "3.9.12"
  },
  "toc": {
   "base_numbering": 1,
   "nav_menu": {},
   "number_sections": true,
   "sideBar": true,
   "skip_h1_title": true,
   "title_cell": "Table of Contents",
   "title_sidebar": "Contents",
   "toc_cell": false,
   "toc_position": {},
   "toc_section_display": true,
   "toc_window_display": false
  },
  "vscode": {
   "interpreter": {
    "hash": "4f2b0cfe12c109b58467a02dc33230d9e6228c23b43020d2941c37e2a7dfdd3f"
   }
  }
 },
 "nbformat": 4,
 "nbformat_minor": 2
}
